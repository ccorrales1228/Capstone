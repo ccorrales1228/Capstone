{
 "cells": [
  {
   "cell_type": "markdown",
   "metadata": {},
   "source": [
    "# Loan Default Modeling for Lending Club\n",
    "\n",
    "Capstone MVP (Minimum Viable Product)\n",
    "\n",
    "Note to vistors: This is intended for academic purposes.\n",
    "\n",
    "Please note, this is a Machine Learning Classification project using Lending Club datasets.\n",
    "\n",
    "Datasets were sourced via Kaggle:\n",
    "\n",
    "https://www.kaggle.com/wordsforthewise/lending-club\n",
    "\n",
    "\n",
    "https://www.kaggle.com/ethon0426/lending-club-20072020q1"
   ]
  },
  {
   "cell_type": "markdown",
   "metadata": {},
   "source": [
    "## Business Interest\n",
    "\n",
    "The client (Lending Club) wants to capture applicants that would be able to repay the loan and also identify potentially high-risk borrowers that are likely to default. In turn, the client wants to reduce the potential loss of business of applicants that are likely to not default and identifying applicants that are likely to default.\n",
    "\n",
    "This is key to the business interests of the client:\n",
    "\n",
    "(1) They do not want to miss-classify prospective applicants during their pre-screening process\n",
    "\n",
    "(2) Manage their operational risk appetite by classifying potential applicants that could be considered at risk of defaulting down the line."
   ]
  },
  {
   "cell_type": "markdown",
   "metadata": {},
   "source": [
    "# Notebook Overview, NB3_Data_Wrangling_EDA1"
   ]
  },
  {
   "cell_type": "markdown",
   "metadata": {},
   "source": [
    "This Notebook was created after the inital reduction of our original two million observation. Due to low memory issues and limited processing power, we went from two million observation within 151 variables to 246268 observations with 37 features. \n",
    "\n",
    "This Notebook:\n",
    "\n",
    "* Univariant analysis of categorical and numerical features.\n",
    "\n",
    "\n",
    "* Lite Data Clensing and Data Wrangling\n",
    "\n",
    "\n",
    "* Updating the asset (dataset) for preparation for the second notebook which will focus on Bivariant EDA with resepct to our response variable, Preprocessing, and Modeling, and Post Modeling Analysis"
   ]
  },
  {
   "cell_type": "markdown",
   "metadata": {},
   "source": [
    "# Loading Dependencies"
   ]
  },
  {
   "cell_type": "code",
   "execution_count": 1,
   "metadata": {},
   "outputs": [],
   "source": [
    "import matplotlib.pyplot as plt\n",
    "import numpy as np\n",
    "import pandas as pd\n",
    "import seaborn as sns\n",
    "\n",
    "%matplotlib inline\n",
    "\n",
    "# Pandas options\n",
    "pd.set_option('display.max_colwidth', 1000, 'display.max_rows', 200, 'display.max_columns', 200)\n",
    "\n",
    "%config Completer.use_jedi = False"
   ]
  },
  {
   "cell_type": "markdown",
   "metadata": {},
   "source": [
    "# Data Loading"
   ]
  },
  {
   "cell_type": "code",
   "execution_count": 2,
   "metadata": {},
   "outputs": [],
   "source": [
    "# Creating a pandas dataframe to work with. \n",
    "# Also, including low_memory option to mitigate the taxing computational resources\n",
    "\n",
    "Working_DF = pd.read_csv('clean_accepted_2.csv', low_memory=True)"
   ]
  },
  {
   "cell_type": "markdown",
   "metadata": {},
   "source": [
    "## Data Wrangling "
   ]
  },
  {
   "cell_type": "code",
   "execution_count": 3,
   "metadata": {},
   "outputs": [
    {
     "data": {
      "text/html": [
       "<div>\n",
       "<style scoped>\n",
       "    .dataframe tbody tr th:only-of-type {\n",
       "        vertical-align: middle;\n",
       "    }\n",
       "\n",
       "    .dataframe tbody tr th {\n",
       "        vertical-align: top;\n",
       "    }\n",
       "\n",
       "    .dataframe thead th {\n",
       "        text-align: right;\n",
       "    }\n",
       "</style>\n",
       "<table border=\"1\" class=\"dataframe\">\n",
       "  <thead>\n",
       "    <tr style=\"text-align: right;\">\n",
       "      <th></th>\n",
       "      <th>id</th>\n",
       "      <th>loan_amnt</th>\n",
       "      <th>term</th>\n",
       "      <th>int_rate</th>\n",
       "      <th>installment</th>\n",
       "      <th>grade</th>\n",
       "      <th>sub_grade</th>\n",
       "      <th>emp_title</th>\n",
       "      <th>emp_length</th>\n",
       "      <th>home_ownership</th>\n",
       "      <th>annual_inc</th>\n",
       "      <th>verification_status</th>\n",
       "      <th>issue_d</th>\n",
       "      <th>loan_status</th>\n",
       "      <th>pymnt_plan</th>\n",
       "      <th>purpose</th>\n",
       "      <th>title</th>\n",
       "      <th>zip_code</th>\n",
       "      <th>addr_state</th>\n",
       "      <th>dti</th>\n",
       "      <th>earliest_cr_line</th>\n",
       "      <th>fico_range_low</th>\n",
       "      <th>fico_range_high</th>\n",
       "      <th>inq_last_6mths</th>\n",
       "      <th>open_acc</th>\n",
       "      <th>pub_rec</th>\n",
       "      <th>revol_bal</th>\n",
       "      <th>revol_util</th>\n",
       "      <th>total_acc</th>\n",
       "      <th>initial_list_status</th>\n",
       "      <th>recoveries</th>\n",
       "      <th>application_type</th>\n",
       "      <th>tot_cur_bal</th>\n",
       "      <th>bc_util</th>\n",
       "      <th>mort_acc</th>\n",
       "      <th>pub_rec_bankruptcies</th>\n",
       "      <th>tax_liens</th>\n",
       "    </tr>\n",
       "  </thead>\n",
       "  <tbody>\n",
       "    <tr>\n",
       "      <th>0</th>\n",
       "      <td>103215536</td>\n",
       "      <td>25000.0</td>\n",
       "      <td>36 months</td>\n",
       "      <td>17.99</td>\n",
       "      <td>903.69</td>\n",
       "      <td>D</td>\n",
       "      <td>D2</td>\n",
       "      <td>Compliance Manager</td>\n",
       "      <td>1 year</td>\n",
       "      <td>MORTGAGE</td>\n",
       "      <td>67500.0</td>\n",
       "      <td>Source Verified</td>\n",
       "      <td>Mar-2017</td>\n",
       "      <td>Charged Off</td>\n",
       "      <td>n</td>\n",
       "      <td>debt_consolidation</td>\n",
       "      <td>Debt consolidation</td>\n",
       "      <td>750xx</td>\n",
       "      <td>TX</td>\n",
       "      <td>19.41</td>\n",
       "      <td>Oct-1995</td>\n",
       "      <td>660.0</td>\n",
       "      <td>664.0</td>\n",
       "      <td>1.0</td>\n",
       "      <td>25.0</td>\n",
       "      <td>0.0</td>\n",
       "      <td>43658.0</td>\n",
       "      <td>56.3</td>\n",
       "      <td>54.0</td>\n",
       "      <td>f</td>\n",
       "      <td>2298.61</td>\n",
       "      <td>Individual</td>\n",
       "      <td>173292.0</td>\n",
       "      <td>39.4</td>\n",
       "      <td>2.0</td>\n",
       "      <td>0.0</td>\n",
       "      <td>0.0</td>\n",
       "    </tr>\n",
       "    <tr>\n",
       "      <th>1</th>\n",
       "      <td>51105809</td>\n",
       "      <td>10000.0</td>\n",
       "      <td>36 months</td>\n",
       "      <td>11.53</td>\n",
       "      <td>329.91</td>\n",
       "      <td>B</td>\n",
       "      <td>B5</td>\n",
       "      <td>customer service</td>\n",
       "      <td>3 years</td>\n",
       "      <td>RENT</td>\n",
       "      <td>45000.0</td>\n",
       "      <td>Not Verified</td>\n",
       "      <td>Jun-2015</td>\n",
       "      <td>Fully Paid</td>\n",
       "      <td>n</td>\n",
       "      <td>debt_consolidation</td>\n",
       "      <td>Debt consolidation</td>\n",
       "      <td>982xx</td>\n",
       "      <td>WA</td>\n",
       "      <td>29.23</td>\n",
       "      <td>Sep-2003</td>\n",
       "      <td>680.0</td>\n",
       "      <td>684.0</td>\n",
       "      <td>0.0</td>\n",
       "      <td>20.0</td>\n",
       "      <td>0.0</td>\n",
       "      <td>7459.0</td>\n",
       "      <td>58.3</td>\n",
       "      <td>28.0</td>\n",
       "      <td>f</td>\n",
       "      <td>0.00</td>\n",
       "      <td>Individual</td>\n",
       "      <td>62916.0</td>\n",
       "      <td>71.0</td>\n",
       "      <td>0.0</td>\n",
       "      <td>0.0</td>\n",
       "      <td>0.0</td>\n",
       "    </tr>\n",
       "    <tr>\n",
       "      <th>2</th>\n",
       "      <td>6728064</td>\n",
       "      <td>6950.0</td>\n",
       "      <td>36 months</td>\n",
       "      <td>15.88</td>\n",
       "      <td>243.93</td>\n",
       "      <td>C</td>\n",
       "      <td>C4</td>\n",
       "      <td>Hanson Construction Company, Inc</td>\n",
       "      <td>3 years</td>\n",
       "      <td>RENT</td>\n",
       "      <td>41810.0</td>\n",
       "      <td>Verified</td>\n",
       "      <td>Sep-2013</td>\n",
       "      <td>Fully Paid</td>\n",
       "      <td>n</td>\n",
       "      <td>debt_consolidation</td>\n",
       "      <td>Visa Free</td>\n",
       "      <td>986xx</td>\n",
       "      <td>WA</td>\n",
       "      <td>17.25</td>\n",
       "      <td>Aug-1988</td>\n",
       "      <td>665.0</td>\n",
       "      <td>669.0</td>\n",
       "      <td>3.0</td>\n",
       "      <td>6.0</td>\n",
       "      <td>1.0</td>\n",
       "      <td>10723.0</td>\n",
       "      <td>58.0</td>\n",
       "      <td>43.0</td>\n",
       "      <td>f</td>\n",
       "      <td>0.00</td>\n",
       "      <td>Individual</td>\n",
       "      <td>197096.0</td>\n",
       "      <td>98.4</td>\n",
       "      <td>2.0</td>\n",
       "      <td>1.0</td>\n",
       "      <td>0.0</td>\n",
       "    </tr>\n",
       "    <tr>\n",
       "      <th>3</th>\n",
       "      <td>59229385</td>\n",
       "      <td>24000.0</td>\n",
       "      <td>60 months</td>\n",
       "      <td>12.69</td>\n",
       "      <td>542.28</td>\n",
       "      <td>C</td>\n",
       "      <td>C2</td>\n",
       "      <td>Senior Consultant</td>\n",
       "      <td>3 years</td>\n",
       "      <td>MORTGAGE</td>\n",
       "      <td>100000.0</td>\n",
       "      <td>Not Verified</td>\n",
       "      <td>Sep-2015</td>\n",
       "      <td>Fully Paid</td>\n",
       "      <td>n</td>\n",
       "      <td>debt_consolidation</td>\n",
       "      <td>Debt consolidation</td>\n",
       "      <td>850xx</td>\n",
       "      <td>AZ</td>\n",
       "      <td>22.22</td>\n",
       "      <td>Sep-1996</td>\n",
       "      <td>695.0</td>\n",
       "      <td>699.0</td>\n",
       "      <td>0.0</td>\n",
       "      <td>9.0</td>\n",
       "      <td>0.0</td>\n",
       "      <td>22654.0</td>\n",
       "      <td>89.2</td>\n",
       "      <td>22.0</td>\n",
       "      <td>w</td>\n",
       "      <td>0.00</td>\n",
       "      <td>Individual</td>\n",
       "      <td>281268.0</td>\n",
       "      <td>89.2</td>\n",
       "      <td>2.0</td>\n",
       "      <td>0.0</td>\n",
       "      <td>0.0</td>\n",
       "    </tr>\n",
       "    <tr>\n",
       "      <th>4</th>\n",
       "      <td>10735811</td>\n",
       "      <td>15000.0</td>\n",
       "      <td>60 months</td>\n",
       "      <td>24.99</td>\n",
       "      <td>440.19</td>\n",
       "      <td>F</td>\n",
       "      <td>F4</td>\n",
       "      <td>sales</td>\n",
       "      <td>10+ years</td>\n",
       "      <td>MORTGAGE</td>\n",
       "      <td>65000.0</td>\n",
       "      <td>Verified</td>\n",
       "      <td>Jan-2014</td>\n",
       "      <td>Fully Paid</td>\n",
       "      <td>n</td>\n",
       "      <td>debt_consolidation</td>\n",
       "      <td>Debt consolidation</td>\n",
       "      <td>027xx</td>\n",
       "      <td>MA</td>\n",
       "      <td>25.24</td>\n",
       "      <td>Jul-2003</td>\n",
       "      <td>665.0</td>\n",
       "      <td>669.0</td>\n",
       "      <td>0.0</td>\n",
       "      <td>16.0</td>\n",
       "      <td>0.0</td>\n",
       "      <td>9269.0</td>\n",
       "      <td>25.3</td>\n",
       "      <td>44.0</td>\n",
       "      <td>f</td>\n",
       "      <td>0.00</td>\n",
       "      <td>Individual</td>\n",
       "      <td>253377.0</td>\n",
       "      <td>27.2</td>\n",
       "      <td>2.0</td>\n",
       "      <td>0.0</td>\n",
       "      <td>0.0</td>\n",
       "    </tr>\n",
       "  </tbody>\n",
       "</table>\n",
       "</div>"
      ],
      "text/plain": [
       "          id  loan_amnt        term  int_rate  installment grade sub_grade  \\\n",
       "0  103215536    25000.0   36 months     17.99       903.69     D        D2   \n",
       "1   51105809    10000.0   36 months     11.53       329.91     B        B5   \n",
       "2    6728064     6950.0   36 months     15.88       243.93     C        C4   \n",
       "3   59229385    24000.0   60 months     12.69       542.28     C        C2   \n",
       "4   10735811    15000.0   60 months     24.99       440.19     F        F4   \n",
       "\n",
       "                          emp_title emp_length home_ownership  annual_inc  \\\n",
       "0                Compliance Manager     1 year       MORTGAGE     67500.0   \n",
       "1                  customer service    3 years           RENT     45000.0   \n",
       "2  Hanson Construction Company, Inc    3 years           RENT     41810.0   \n",
       "3                 Senior Consultant    3 years       MORTGAGE    100000.0   \n",
       "4                             sales  10+ years       MORTGAGE     65000.0   \n",
       "\n",
       "  verification_status   issue_d  loan_status pymnt_plan             purpose  \\\n",
       "0     Source Verified  Mar-2017  Charged Off          n  debt_consolidation   \n",
       "1        Not Verified  Jun-2015   Fully Paid          n  debt_consolidation   \n",
       "2            Verified  Sep-2013   Fully Paid          n  debt_consolidation   \n",
       "3        Not Verified  Sep-2015   Fully Paid          n  debt_consolidation   \n",
       "4            Verified  Jan-2014   Fully Paid          n  debt_consolidation   \n",
       "\n",
       "                title zip_code addr_state    dti earliest_cr_line  \\\n",
       "0  Debt consolidation    750xx         TX  19.41         Oct-1995   \n",
       "1  Debt consolidation    982xx         WA  29.23         Sep-2003   \n",
       "2           Visa Free    986xx         WA  17.25         Aug-1988   \n",
       "3  Debt consolidation    850xx         AZ  22.22         Sep-1996   \n",
       "4  Debt consolidation    027xx         MA  25.24         Jul-2003   \n",
       "\n",
       "   fico_range_low  fico_range_high  inq_last_6mths  open_acc  pub_rec  \\\n",
       "0           660.0            664.0             1.0      25.0      0.0   \n",
       "1           680.0            684.0             0.0      20.0      0.0   \n",
       "2           665.0            669.0             3.0       6.0      1.0   \n",
       "3           695.0            699.0             0.0       9.0      0.0   \n",
       "4           665.0            669.0             0.0      16.0      0.0   \n",
       "\n",
       "   revol_bal  revol_util  total_acc initial_list_status  recoveries  \\\n",
       "0    43658.0        56.3       54.0                   f     2298.61   \n",
       "1     7459.0        58.3       28.0                   f        0.00   \n",
       "2    10723.0        58.0       43.0                   f        0.00   \n",
       "3    22654.0        89.2       22.0                   w        0.00   \n",
       "4     9269.0        25.3       44.0                   f        0.00   \n",
       "\n",
       "  application_type  tot_cur_bal  bc_util  mort_acc  pub_rec_bankruptcies  \\\n",
       "0       Individual     173292.0     39.4       2.0                   0.0   \n",
       "1       Individual      62916.0     71.0       0.0                   0.0   \n",
       "2       Individual     197096.0     98.4       2.0                   1.0   \n",
       "3       Individual     281268.0     89.2       2.0                   0.0   \n",
       "4       Individual     253377.0     27.2       2.0                   0.0   \n",
       "\n",
       "   tax_liens  \n",
       "0        0.0  \n",
       "1        0.0  \n",
       "2        0.0  \n",
       "3        0.0  \n",
       "4        0.0  "
      ]
     },
     "execution_count": 3,
     "metadata": {},
     "output_type": "execute_result"
    }
   ],
   "source": [
    "# Sanity checking the Working_DF\n",
    "\n",
    "Working_DF.head()"
   ]
  },
  {
   "cell_type": "code",
   "execution_count": 4,
   "metadata": {
    "scrolled": false
   },
   "outputs": [
    {
     "name": "stdout",
     "output_type": "stream",
     "text": [
      "<class 'pandas.core.frame.DataFrame'>\n",
      "RangeIndex: 246269 entries, 0 to 246268\n",
      "Data columns (total 37 columns):\n",
      " #   Column                Non-Null Count   Dtype  \n",
      "---  ------                --------------   -----  \n",
      " 0   id                    246269 non-null  int64  \n",
      " 1   loan_amnt             246269 non-null  float64\n",
      " 2   term                  246269 non-null  object \n",
      " 3   int_rate              246269 non-null  float64\n",
      " 4   installment           246269 non-null  float64\n",
      " 5   grade                 246269 non-null  object \n",
      " 6   sub_grade             246269 non-null  object \n",
      " 7   emp_title             246269 non-null  object \n",
      " 8   emp_length            246269 non-null  object \n",
      " 9   home_ownership        246269 non-null  object \n",
      " 10  annual_inc            246269 non-null  float64\n",
      " 11  verification_status   246269 non-null  object \n",
      " 12  issue_d               246269 non-null  object \n",
      " 13  loan_status           246269 non-null  object \n",
      " 14  pymnt_plan            246269 non-null  object \n",
      " 15  purpose               246269 non-null  object \n",
      " 16  title                 246269 non-null  object \n",
      " 17  zip_code              246269 non-null  object \n",
      " 18  addr_state            246269 non-null  object \n",
      " 19  dti                   246269 non-null  float64\n",
      " 20  earliest_cr_line      246269 non-null  object \n",
      " 21  fico_range_low        246269 non-null  float64\n",
      " 22  fico_range_high       246269 non-null  float64\n",
      " 23  inq_last_6mths        246269 non-null  float64\n",
      " 24  open_acc              246269 non-null  float64\n",
      " 25  pub_rec               246269 non-null  float64\n",
      " 26  revol_bal             246269 non-null  float64\n",
      " 27  revol_util            246269 non-null  float64\n",
      " 28  total_acc             246269 non-null  float64\n",
      " 29  initial_list_status   246269 non-null  object \n",
      " 30  recoveries            246269 non-null  float64\n",
      " 31  application_type      246269 non-null  object \n",
      " 32  tot_cur_bal           246269 non-null  float64\n",
      " 33  bc_util               246269 non-null  float64\n",
      " 34  mort_acc              246269 non-null  float64\n",
      " 35  pub_rec_bankruptcies  246269 non-null  float64\n",
      " 36  tax_liens             246269 non-null  float64\n",
      "dtypes: float64(19), int64(1), object(17)\n",
      "memory usage: 69.5+ MB\n"
     ]
    }
   ],
   "source": [
    "# Checking info and dtypes\n",
    "\n",
    "Working_DF.info()"
   ]
  },
  {
   "cell_type": "markdown",
   "metadata": {},
   "source": [
    "* No null values and we have over 246k observations.\n",
    "\n",
    "* Also we can see some of the dtypes will require some formating to the correct dtypes, which will be done during the preprocess analysis and data clensing portion."
   ]
  },
  {
   "cell_type": "code",
   "execution_count": 5,
   "metadata": {
    "scrolled": true
   },
   "outputs": [
    {
     "data": {
      "text/plain": [
       "246269"
      ]
     },
     "execution_count": 5,
     "metadata": {},
     "output_type": "execute_result"
    }
   ],
   "source": [
    "# checking the unique values of the id \n",
    "\n",
    "Working_DF.id.nunique()"
   ]
  },
  {
   "cell_type": "markdown",
   "metadata": {},
   "source": [
    "* Above we can see that IDs are unique and correspond to the number of observations.\n",
    "\n",
    "* During the exploratory data analysis (EDA) portion I will go further and determine if the ID will be necessary for pre-processing. "
   ]
  },
  {
   "cell_type": "code",
   "execution_count": 6,
   "metadata": {},
   "outputs": [
    {
     "name": "stdout",
     "output_type": "stream",
     "text": [
      "id                      0.0\n",
      "dti                     0.0\n",
      "fico_range_low          0.0\n",
      "fico_range_high         0.0\n",
      "inq_last_6mths          0.0\n",
      "open_acc                0.0\n",
      "pub_rec                 0.0\n",
      "revol_bal               0.0\n",
      "revol_util              0.0\n",
      "total_acc               0.0\n",
      "initial_list_status     0.0\n",
      "recoveries              0.0\n",
      "application_type        0.0\n",
      "tot_cur_bal             0.0\n",
      "bc_util                 0.0\n",
      "mort_acc                0.0\n",
      "pub_rec_bankruptcies    0.0\n",
      "earliest_cr_line        0.0\n",
      "addr_state              0.0\n",
      "loan_amnt               0.0\n",
      "zip_code                0.0\n",
      "term                    0.0\n",
      "int_rate                0.0\n",
      "installment             0.0\n",
      "grade                   0.0\n",
      "sub_grade               0.0\n",
      "emp_title               0.0\n",
      "emp_length              0.0\n",
      "home_ownership          0.0\n",
      "annual_inc              0.0\n",
      "verification_status     0.0\n",
      "issue_d                 0.0\n",
      "loan_status             0.0\n",
      "pymnt_plan              0.0\n",
      "purpose                 0.0\n",
      "title                   0.0\n",
      "tax_liens               0.0\n",
      "dtype: float64\n"
     ]
    }
   ],
   "source": [
    "# checking for any missing values\n",
    "\n",
    "missing_percent = Working_DF.isna().mean().sort_values(ascending = False).round(4) * 100\n",
    "print(missing_percent)"
   ]
  },
  {
   "cell_type": "markdown",
   "metadata": {},
   "source": [
    "* Above shows a good indicator of the percentage of potential missing values found within our current asset (dataset). \n",
    "\n",
    "* As we can see there are no missing values, however, we will do some data minipulation and additional clensing in the next section."
   ]
  },
  {
   "cell_type": "markdown",
   "metadata": {},
   "source": [
    "# Validity (In-depth Sanity) Checking, Lite Data Clensing, Univariant Analysis (Lite EDA)"
   ]
  },
  {
   "cell_type": "markdown",
   "metadata": {},
   "source": [
    "To be more efficient and create a more manageable we will divide this section into two validity sections: discrete and continous.\n"
   ]
  },
  {
   "cell_type": "markdown",
   "metadata": {},
   "source": [
    "## Discrete Variables Validity Checks"
   ]
  },
  {
   "cell_type": "code",
   "execution_count": 7,
   "metadata": {},
   "outputs": [
    {
     "data": {
      "text/html": [
       "<div>\n",
       "<style scoped>\n",
       "    .dataframe tbody tr th:only-of-type {\n",
       "        vertical-align: middle;\n",
       "    }\n",
       "\n",
       "    .dataframe tbody tr th {\n",
       "        vertical-align: top;\n",
       "    }\n",
       "\n",
       "    .dataframe thead th {\n",
       "        text-align: right;\n",
       "    }\n",
       "</style>\n",
       "<table border=\"1\" class=\"dataframe\">\n",
       "  <thead>\n",
       "    <tr style=\"text-align: right;\">\n",
       "      <th></th>\n",
       "      <th>term</th>\n",
       "      <th>grade</th>\n",
       "      <th>sub_grade</th>\n",
       "      <th>emp_title</th>\n",
       "      <th>emp_length</th>\n",
       "      <th>home_ownership</th>\n",
       "      <th>verification_status</th>\n",
       "      <th>issue_d</th>\n",
       "      <th>loan_status</th>\n",
       "      <th>pymnt_plan</th>\n",
       "      <th>purpose</th>\n",
       "      <th>title</th>\n",
       "      <th>zip_code</th>\n",
       "      <th>addr_state</th>\n",
       "      <th>earliest_cr_line</th>\n",
       "      <th>initial_list_status</th>\n",
       "      <th>application_type</th>\n",
       "    </tr>\n",
       "  </thead>\n",
       "  <tbody>\n",
       "    <tr>\n",
       "      <th>count</th>\n",
       "      <td>246269</td>\n",
       "      <td>246269</td>\n",
       "      <td>246269</td>\n",
       "      <td>246269</td>\n",
       "      <td>246269</td>\n",
       "      <td>246269</td>\n",
       "      <td>246269</td>\n",
       "      <td>246269</td>\n",
       "      <td>246269</td>\n",
       "      <td>246269</td>\n",
       "      <td>246269</td>\n",
       "      <td>246269</td>\n",
       "      <td>246269</td>\n",
       "      <td>246269</td>\n",
       "      <td>246269</td>\n",
       "      <td>246269</td>\n",
       "      <td>246269</td>\n",
       "    </tr>\n",
       "    <tr>\n",
       "      <th>unique</th>\n",
       "      <td>2</td>\n",
       "      <td>7</td>\n",
       "      <td>35</td>\n",
       "      <td>94194</td>\n",
       "      <td>11</td>\n",
       "      <td>6</td>\n",
       "      <td>3</td>\n",
       "      <td>77</td>\n",
       "      <td>2</td>\n",
       "      <td>1</td>\n",
       "      <td>13</td>\n",
       "      <td>10039</td>\n",
       "      <td>898</td>\n",
       "      <td>51</td>\n",
       "      <td>662</td>\n",
       "      <td>2</td>\n",
       "      <td>2</td>\n",
       "    </tr>\n",
       "    <tr>\n",
       "      <th>top</th>\n",
       "      <td>36 months</td>\n",
       "      <td>C</td>\n",
       "      <td>C1</td>\n",
       "      <td>Teacher</td>\n",
       "      <td>10+ years</td>\n",
       "      <td>MORTGAGE</td>\n",
       "      <td>Source Verified</td>\n",
       "      <td>Mar-2016</td>\n",
       "      <td>Fully Paid</td>\n",
       "      <td>n</td>\n",
       "      <td>debt_consolidation</td>\n",
       "      <td>Debt consolidation</td>\n",
       "      <td>750xx</td>\n",
       "      <td>CA</td>\n",
       "      <td>Aug-2001</td>\n",
       "      <td>w</td>\n",
       "      <td>Individual</td>\n",
       "    </tr>\n",
       "    <tr>\n",
       "      <th>freq</th>\n",
       "      <td>183412</td>\n",
       "      <td>71260</td>\n",
       "      <td>15641</td>\n",
       "      <td>4419</td>\n",
       "      <td>86809</td>\n",
       "      <td>126956</td>\n",
       "      <td>102862</td>\n",
       "      <td>8711</td>\n",
       "      <td>197386</td>\n",
       "      <td>246269</td>\n",
       "      <td>145597</td>\n",
       "      <td>129904</td>\n",
       "      <td>2914</td>\n",
       "      <td>34771</td>\n",
       "      <td>1901</td>\n",
       "      <td>150365</td>\n",
       "      <td>241649</td>\n",
       "    </tr>\n",
       "  </tbody>\n",
       "</table>\n",
       "</div>"
      ],
      "text/plain": [
       "              term   grade sub_grade emp_title emp_length home_ownership  \\\n",
       "count       246269  246269    246269    246269     246269         246269   \n",
       "unique           2       7        35     94194         11              6   \n",
       "top      36 months       C        C1   Teacher  10+ years       MORTGAGE   \n",
       "freq        183412   71260     15641      4419      86809         126956   \n",
       "\n",
       "       verification_status   issue_d loan_status pymnt_plan  \\\n",
       "count               246269    246269      246269     246269   \n",
       "unique                   3        77           2          1   \n",
       "top        Source Verified  Mar-2016  Fully Paid          n   \n",
       "freq                102862      8711      197386     246269   \n",
       "\n",
       "                   purpose               title zip_code addr_state  \\\n",
       "count               246269              246269   246269     246269   \n",
       "unique                  13               10039      898         51   \n",
       "top     debt_consolidation  Debt consolidation    750xx         CA   \n",
       "freq                145597              129904     2914      34771   \n",
       "\n",
       "       earliest_cr_line initial_list_status application_type  \n",
       "count            246269              246269           246269  \n",
       "unique              662                   2                2  \n",
       "top            Aug-2001                   w       Individual  \n",
       "freq               1901              150365           241649  "
      ]
     },
     "execution_count": 7,
     "metadata": {},
     "output_type": "execute_result"
    }
   ],
   "source": [
    "# Creating a working variable for discrete variables (categorical)\n",
    "\n",
    "categorical = Working_DF.select_dtypes('object')\n",
    "categorical.describe()"
   ]
  },
  {
   "cell_type": "code",
   "execution_count": 8,
   "metadata": {
    "scrolled": false
   },
   "outputs": [
    {
     "name": "stdout",
     "output_type": "stream",
     "text": [
      "<class 'pandas.core.frame.DataFrame'>\n",
      "RangeIndex: 246269 entries, 0 to 246268\n",
      "Data columns (total 17 columns):\n",
      " #   Column               Non-Null Count   Dtype \n",
      "---  ------               --------------   ----- \n",
      " 0   term                 246269 non-null  object\n",
      " 1   grade                246269 non-null  object\n",
      " 2   sub_grade            246269 non-null  object\n",
      " 3   emp_title            246269 non-null  object\n",
      " 4   emp_length           246269 non-null  object\n",
      " 5   home_ownership       246269 non-null  object\n",
      " 6   verification_status  246269 non-null  object\n",
      " 7   issue_d              246269 non-null  object\n",
      " 8   loan_status          246269 non-null  object\n",
      " 9   pymnt_plan           246269 non-null  object\n",
      " 10  purpose              246269 non-null  object\n",
      " 11  title                246269 non-null  object\n",
      " 12  zip_code             246269 non-null  object\n",
      " 13  addr_state           246269 non-null  object\n",
      " 14  earliest_cr_line     246269 non-null  object\n",
      " 15  initial_list_status  246269 non-null  object\n",
      " 16  application_type     246269 non-null  object\n",
      "dtypes: object(17)\n",
      "memory usage: 31.9+ MB\n"
     ]
    }
   ],
   "source": [
    "# pulling up the info list for reference\n",
    "\n",
    "categorical.info()"
   ]
  },
  {
   "cell_type": "markdown",
   "metadata": {},
   "source": [
    "#### Helper function for discrete variables (categorical)"
   ]
  },
  {
   "cell_type": "code",
   "execution_count": 95,
   "metadata": {},
   "outputs": [],
   "source": [
    "# Creating a function to call for quick visualization of categorical features within the asset\n",
    "\n",
    "\n",
    "def cat_count(col_name, full_name):\n",
    "    \"\"\"\n",
    "    This function will help to plot a bar countplot for categorical variables.\n",
    "    - col_name: variable name within our asset.\n",
    "    - full_name: the variable name that one would use for the title\n",
    "    \"\"\"\n",
    "    \n",
    "    # value counts\n",
    "    print(categorical[col_name].value_counts());\n",
    "    \n",
    "    # Visualize \n",
    "    sns.countplot(x = col_name , data = Working_DF).set_title('Demographic of ' + full_name)\n",
    "    plt.xticks(rotation=90, horizontalalignment='center')\n",
    "    plt.figure(figsize=(10,5))\n",
    "    plt.show();\n",
    "    \n",
    "    # Descriptive stats\n",
    "    print(Working_DF[col_name].describe())"
   ]
  },
  {
   "cell_type": "markdown",
   "metadata": {},
   "source": [
    "### Term"
   ]
  },
  {
   "cell_type": "markdown",
   "metadata": {},
   "source": [
    "The \"term\" feature based on the data dictionary: The number of payments on the loan. Values are in months and can be either 36 (three years) or 60 (five years). "
   ]
  },
  {
   "cell_type": "code",
   "execution_count": 96,
   "metadata": {},
   "outputs": [
    {
     "name": "stdout",
     "output_type": "stream",
     "text": [
      " 36 months    183412\n",
      " 60 months     62857\n",
      "Name: term, dtype: int64\n"
     ]
    },
    {
     "data": {
      "image/png": "[encoded data removed]",
      "text/plain": [
       "<Figure size 432x288 with 1 Axes>"
      ]
     },
     "metadata": {
      "needs_background": "light"
     },
     "output_type": "display_data"
    },
    {
     "data": {
      "text/plain": [
       "<Figure size 720x360 with 0 Axes>"
      ]
     },
     "metadata": {},
     "output_type": "display_data"
    },
    {
     "name": "stdout",
     "output_type": "stream",
     "text": [
      "count         246269\n",
      "unique             2\n",
      "top        36 months\n",
      "freq          183412\n",
      "Name: term, dtype: object\n"
     ]
    }
   ],
   "source": [
    "# Checking value count, Visual of variable distribution, and Discriptive Stats\n",
    "\n",
    "cat_count('term', 'Term of Loan')"
   ]
  },
  {
   "cell_type": "markdown",
   "metadata": {},
   "source": [
    "* Based on the value_counts and visual we can see that most clients have choosen to work with a 36 months (three year) term. "
   ]
  },
  {
   "cell_type": "markdown",
   "metadata": {},
   "source": [
    "### Grade and Sub-grade"
   ]
  },
  {
   "cell_type": "markdown",
   "metadata": {},
   "source": [
    "Per the data dictionary:\n",
    "\n",
    "* grade: Lending CLub's assigned loan grade\n",
    "\n",
    "* sub_grade: Lending Club's assigned sub-grade\n",
    "\n",
    "Based on prior knowledge grade and sub-grade are based on the FICO credit score of the customer. The lower the grade, the higher the risk for investors. We will explore them both to see if this variable(s) will be necessary for pre-processing"
   ]
  },
  {
   "cell_type": "code",
   "execution_count": 94,
   "metadata": {},
   "outputs": [
    {
     "name": "stdout",
     "output_type": "stream",
     "text": [
      "C    71260\n",
      "B    70655\n",
      "A    40986\n",
      "D    37609\n",
      "E    17701\n",
      "F     6273\n",
      "G     1785\n",
      "Name: grade, dtype: int64\n"
     ]
    },
    {
     "data": {
      "image/png": "[encoded data removed]",
      "text/plain": [
       "<Figure size 432x288 with 1 Axes>"
      ]
     },
     "metadata": {
      "needs_background": "light"
     },
     "output_type": "display_data"
    },
    {
     "data": {
      "text/plain": [
       "<Figure size 720x360 with 0 Axes>"
      ]
     },
     "metadata": {},
     "output_type": "display_data"
    },
    {
     "name": "stdout",
     "output_type": "stream",
     "text": [
      "count     246269\n",
      "unique         7\n",
      "top            C\n",
      "freq       71260\n",
      "Name: grade, dtype: object\n"
     ]
    }
   ],
   "source": [
    "# Checking value count, Visual of variable distribution, and Discriptive Stats\n",
    "\n",
    "cat_count('grade', 'Grade')"
   ]
  },
  {
   "cell_type": "markdown",
   "metadata": {},
   "source": [
    "Key Points:\n",
    "\n",
    "* We can see that grade \"C\" and \"B\" both have over 140k ovservations\n",
    "\n",
    "* So far 'grade' has shown some interesting results based in regard to curent population sample"
   ]
  },
  {
   "cell_type": "code",
   "execution_count": 12,
   "metadata": {},
   "outputs": [
    {
     "name": "stdout",
     "output_type": "stream",
     "text": [
      "C1    15641\n",
      "B4    15210\n",
      "B5    15114\n",
      "C2    14544\n",
      "B3    14397\n",
      "C3    14190\n",
      "C4    13998\n",
      "B2    13172\n",
      "C5    12887\n",
      "B1    12762\n",
      "A5    11415\n",
      "D1     9674\n",
      "A4     9148\n",
      "D2     8253\n",
      "A1     7369\n",
      "D3     7290\n",
      "D4     6651\n",
      "A3     6620\n",
      "A2     6434\n",
      "D5     5741\n",
      "E1     4474\n",
      "E2     4005\n",
      "E3     3389\n",
      "E4     3024\n",
      "E5     2809\n",
      "F1     1869\n",
      "F2     1443\n",
      "F3     1198\n",
      "F4      970\n",
      "F5      793\n",
      "G1      583\n",
      "G2      412\n",
      "G3      322\n",
      "G4      246\n",
      "G5      222\n",
      "Name: sub_grade, dtype: int64\n"
     ]
    },
    {
     "data": {
      "image/png": "[encoded data removed]",
      "text/plain": [
       "<Figure size 432x288 with 1 Axes>"
      ]
     },
     "metadata": {
      "needs_background": "light"
     },
     "output_type": "display_data"
    },
    {
     "name": "stdout",
     "output_type": "stream",
     "text": [
      "count     246269\n",
      "unique        35\n",
      "top           C1\n",
      "freq       15641\n",
      "Name: sub_grade, dtype: object\n"
     ]
    }
   ],
   "source": [
    "# Checking value count, Visual of variable distribution, and Discriptive Stats\n",
    "\n",
    "cat_count('sub_grade', 'GradSub-grade')"
   ]
  },
  {
   "cell_type": "markdown",
   "metadata": {},
   "source": [
    "Key Point:\n",
    "\n",
    "* Taking into account in respect to 'grade' we can see that even in the sub-grade, \"B\" and \"C\" show a much larger distribution. \n",
    "\n",
    "Consideration(s):\n",
    "\n",
    "* We will get more in-depth when we explore this variable during full EDA and univariant analysis"
   ]
  },
  {
   "cell_type": "markdown",
   "metadata": {},
   "source": [
    "### Employment Title and Employment Length"
   ]
  },
  {
   "cell_type": "markdown",
   "metadata": {},
   "source": [
    "In this section we will take a gander at both: emp_title and emp_length\n",
    "\n",
    "* emp_title: The job title supplied by the Borrower when applying for the loan.\n",
    "\n",
    "* emp_length: Employment length in years. Possible values are between 0 and 10 where 0 means less than one year and 10 means ten or more years. \n",
    "\n",
    "This will be quite interesting to explore as emp_length could be continious. Moreover, emp_title will give us a lay of the land to understand the employment/industry demographics of Lending Club's borrowers"
   ]
  },
  {
   "cell_type": "code",
   "execution_count": 13,
   "metadata": {},
   "outputs": [
    {
     "data": {
      "text/plain": [
       "Teacher                         4419\n",
       "Manager                         4037\n",
       "Owner                           2078\n",
       "Registered Nurse                1857\n",
       "RN                              1838\n",
       "                                ... \n",
       "Quality Assurance Superviser       1\n",
       "Fiscal Tech 2                      1\n",
       "Specialisy                         1\n",
       "skilled assembler                  1\n",
       "Ofac                               1\n",
       "Name: emp_title, Length: 94194, dtype: int64"
      ]
     },
     "execution_count": 13,
     "metadata": {},
     "output_type": "execute_result"
    }
   ],
   "source": [
    "# checking unique values found within emp_title\n",
    "\n",
    "categorical.emp_title.value_counts()"
   ]
  },
  {
   "cell_type": "code",
   "execution_count": 14,
   "metadata": {},
   "outputs": [
    {
     "name": "stdout",
     "output_type": "stream",
     "text": [
      "Teacher                         4419\n",
      "Manager                         4037\n",
      "Owner                           2078\n",
      "Registered Nurse                1857\n",
      "RN                              1838\n",
      "                                ... \n",
      "Quality Assurance Superviser       1\n",
      "Fiscal Tech 2                      1\n",
      "Specialisy                         1\n",
      "skilled assembler                  1\n",
      "Ofac                               1\n",
      "Name: emp_title, Length: 94194, dtype: int64\n"
     ]
    }
   ],
   "source": [
    "# let's list all the emp_title\n",
    "\n",
    "employ_titles = categorical.emp_title.value_counts()\n",
    "\n",
    "print(employ_titles)"
   ]
  },
  {
   "cell_type": "code",
   "execution_count": 15,
   "metadata": {},
   "outputs": [
    {
     "data": {
      "text/plain": [
       "(94194,)"
      ]
     },
     "execution_count": 15,
     "metadata": {},
     "output_type": "execute_result"
    }
   ],
   "source": [
    "# Checking the shape of employment titles\n",
    "\n",
    "employ_titles.shape"
   ]
  },
  {
   "cell_type": "code",
   "execution_count": 16,
   "metadata": {},
   "outputs": [
    {
     "data": {
      "text/plain": [
       "count      246269\n",
       "unique      94194\n",
       "top       Teacher\n",
       "freq         4419\n",
       "Name: emp_title, dtype: object"
      ]
     },
     "execution_count": 16,
     "metadata": {},
     "output_type": "execute_result"
    }
   ],
   "source": [
    "# Summary stats for emp_title\n",
    "\n",
    "Working_DF.emp_title.describe()"
   ]
  },
  {
   "cell_type": "markdown",
   "metadata": {},
   "source": [
    "Key Points: \n",
    "\n",
    "* As we can see there are too many unique employment titles, over 90k.\n",
    "\n",
    "* The top employment titles are: Teacher, Manager, Owner, Registered Nurse (RN) \n",
    "\n",
    "Consideration(s): \n",
    "\n",
    "* With over 90k unique values there are too many titles for this to be useful--so we will likely drop this after checking emp_length"
   ]
  },
  {
   "cell_type": "code",
   "execution_count": 17,
   "metadata": {},
   "outputs": [
    {
     "name": "stdout",
     "output_type": "stream",
     "text": [
      "10+ years    86809\n",
      "2 years      23561\n",
      "3 years      20842\n",
      "< 1 year     20563\n",
      "1 year       16968\n",
      "5 years      16172\n",
      "4 years      15436\n",
      "8 years      12009\n",
      "6 years      11974\n",
      "7 years      11645\n",
      "9 years      10290\n",
      "Name: emp_length, dtype: int64\n"
     ]
    },
    {
     "data": {
      "image/png": "[encoded data removed]",
      "text/plain": [
       "<Figure size 432x288 with 1 Axes>"
      ]
     },
     "metadata": {
      "needs_background": "light"
     },
     "output_type": "display_data"
    },
    {
     "name": "stdout",
     "output_type": "stream",
     "text": [
      "count        246269\n",
      "unique           11\n",
      "top       10+ years\n",
      "freq          86809\n",
      "Name: emp_length, dtype: object\n"
     ]
    }
   ],
   "source": [
    "# Checking value count, Visual of variable distribution, and Discriptive Stats\n",
    "\n",
    "cat_count('emp_length', 'Employment Length')"
   ]
  },
  {
   "cell_type": "code",
   "execution_count": 18,
   "metadata": {},
   "outputs": [
    {
     "data": {
      "text/plain": [
       "246269"
      ]
     },
     "execution_count": 18,
     "metadata": {},
     "output_type": "execute_result"
    }
   ],
   "source": [
    "# No missing values, but wanted to check the len for sanity checking purposes\n",
    "\n",
    "len(categorical.emp_length)"
   ]
  },
  {
   "cell_type": "markdown",
   "metadata": {},
   "source": [
    "Key Point(s): \n",
    "\n",
    "* The Lending CLub data dictionary description for emp_length does not match.\n",
    "\n",
    "* We have 11 unique values within the feature.\n",
    "\n",
    "* Top value is 10+ years of employment. This is good to know, so we can see the distribution to our response (target) variable during the univariant analysis.\n",
    "\n",
    "Consideration(s):\n",
    "\n",
    "* Binning employment lengths to four classes: < 1 to 0 years \n",
    "\n",
    "or\n",
    "\n",
    "* Removing the 'years' string\n",
    "\n",
    "\n",
    "* Per our inital assumption employment length, we will convert this variable into numerical"
   ]
  },
  {
   "cell_type": "markdown",
   "metadata": {},
   "source": [
    "#### Data Cleaning: Employment title and Employment Length"
   ]
  },
  {
   "cell_type": "code",
   "execution_count": 19,
   "metadata": {},
   "outputs": [],
   "source": [
    "# Removing Employment title from our asset (dataset)\n",
    "\n",
    "Working_DF.drop(labels='emp_title', axis=1, inplace=True)\n"
   ]
  },
  {
   "cell_type": "code",
   "execution_count": 20,
   "metadata": {
    "scrolled": true
   },
   "outputs": [
    {
     "name": "stdout",
     "output_type": "stream",
     "text": [
      "<class 'pandas.core.frame.DataFrame'>\n",
      "RangeIndex: 246269 entries, 0 to 246268\n",
      "Data columns (total 36 columns):\n",
      " #   Column                Non-Null Count   Dtype  \n",
      "---  ------                --------------   -----  \n",
      " 0   id                    246269 non-null  int64  \n",
      " 1   loan_amnt             246269 non-null  float64\n",
      " 2   term                  246269 non-null  object \n",
      " 3   int_rate              246269 non-null  float64\n",
      " 4   installment           246269 non-null  float64\n",
      " 5   grade                 246269 non-null  object \n",
      " 6   sub_grade             246269 non-null  object \n",
      " 7   emp_length            246269 non-null  object \n",
      " 8   home_ownership        246269 non-null  object \n",
      " 9   annual_inc            246269 non-null  float64\n",
      " 10  verification_status   246269 non-null  object \n",
      " 11  issue_d               246269 non-null  object \n",
      " 12  loan_status           246269 non-null  object \n",
      " 13  pymnt_plan            246269 non-null  object \n",
      " 14  purpose               246269 non-null  object \n",
      " 15  title                 246269 non-null  object \n",
      " 16  zip_code              246269 non-null  object \n",
      " 17  addr_state            246269 non-null  object \n",
      " 18  dti                   246269 non-null  float64\n",
      " 19  earliest_cr_line      246269 non-null  object \n",
      " 20  fico_range_low        246269 non-null  float64\n",
      " 21  fico_range_high       246269 non-null  float64\n",
      " 22  inq_last_6mths        246269 non-null  float64\n",
      " 23  open_acc              246269 non-null  float64\n",
      " 24  pub_rec               246269 non-null  float64\n",
      " 25  revol_bal             246269 non-null  float64\n",
      " 26  revol_util            246269 non-null  float64\n",
      " 27  total_acc             246269 non-null  float64\n",
      " 28  initial_list_status   246269 non-null  object \n",
      " 29  recoveries            246269 non-null  float64\n",
      " 30  application_type      246269 non-null  object \n",
      " 31  tot_cur_bal           246269 non-null  float64\n",
      " 32  bc_util               246269 non-null  float64\n",
      " 33  mort_acc              246269 non-null  float64\n",
      " 34  pub_rec_bankruptcies  246269 non-null  float64\n",
      " 35  tax_liens             246269 non-null  float64\n",
      "dtypes: float64(19), int64(1), object(16)\n",
      "memory usage: 67.6+ MB\n"
     ]
    }
   ],
   "source": [
    "# sanity check emp_title was removed \n",
    "\n",
    "Working_DF.info()"
   ]
  },
  {
   "cell_type": "code",
   "execution_count": 21,
   "metadata": {},
   "outputs": [
    {
     "data": {
      "text/plain": [
       "1 year       16968\n",
       "10+ years    86809\n",
       "2 years      23561\n",
       "3 years      20842\n",
       "4 years      15436\n",
       "5 years      16172\n",
       "6 years      11974\n",
       "7 years      11645\n",
       "8 years      12009\n",
       "9 years      10290\n",
       "< 1 year     20563\n",
       "Name: emp_length, dtype: int64"
      ]
     },
     "execution_count": 21,
     "metadata": {},
     "output_type": "execute_result"
    }
   ],
   "source": [
    "# Reference for replacing emp_length\n",
    "Working_DF['emp_length'].value_counts(dropna=False).sort_index()"
   ]
  },
  {
   "cell_type": "code",
   "execution_count": 22,
   "metadata": {},
   "outputs": [],
   "source": [
    "# This is to address the emp_length 'year(s)' strings\n",
    "\n",
    "zero_dict = {'10+ years':'10', \n",
    "            \"< 1 year\": '0',\n",
    "            '2 years': '2',\n",
    "            '3 years': '3',\n",
    "            '4 years': '4',\n",
    "            '5 years': '5',\n",
    "            '6 years': '6',\n",
    "            '7 years': '7',\n",
    "            '8 years': '8',\n",
    "            '9 years': '9',\n",
    "            '1 year': '1'}\n",
    "\n",
    "Working_DF['emp_length'] = Working_DF['emp_length'].replace(zero_dict)"
   ]
  },
  {
   "cell_type": "code",
   "execution_count": 23,
   "metadata": {},
   "outputs": [
    {
     "data": {
      "text/plain": [
       "0     20563\n",
       "1     16968\n",
       "10    86809\n",
       "2     23561\n",
       "3     20842\n",
       "4     15436\n",
       "5     16172\n",
       "6     11974\n",
       "7     11645\n",
       "8     12009\n",
       "9     10290\n",
       "Name: emp_length, dtype: int64"
      ]
     },
     "execution_count": 23,
     "metadata": {},
     "output_type": "execute_result"
    }
   ],
   "source": [
    "# Sanity checking \n",
    "Working_DF['emp_length'].value_counts(dropna=False).sort_index()"
   ]
  },
  {
   "cell_type": "code",
   "execution_count": 24,
   "metadata": {},
   "outputs": [],
   "source": [
    "# converting emp_legth, first string then into an int\n",
    "\n",
    "Working_DF['emp_length'] = Working_DF['emp_length'].astype(str).astype(int)"
   ]
  },
  {
   "cell_type": "markdown",
   "metadata": {},
   "source": [
    "### Home Ownership"
   ]
  },
  {
   "cell_type": "markdown",
   "metadata": {},
   "source": [
    "We will explore the home ownership variable.\n",
    "\n",
    "home_ownership: The home ownership status provided by the borrower during registration or obtained from the credit report. Our values are: RENT, OWN, MORTGAGE, OTHER\n",
    "\n"
   ]
  },
  {
   "cell_type": "code",
   "execution_count": 26,
   "metadata": {},
   "outputs": [
    {
     "name": "stdout",
     "output_type": "stream",
     "text": [
      "MORTGAGE    126956\n",
      "RENT         94084\n",
      "OWN          25156\n",
      "ANY             53\n",
      "OTHER           11\n",
      "NONE             9\n",
      "Name: home_ownership, dtype: int64\n"
     ]
    },
    {
     "data": {
      "image/png": "[encoded data removed]",
      "text/plain": [
       "<Figure size 432x288 with 1 Axes>"
      ]
     },
     "metadata": {
      "needs_background": "light"
     },
     "output_type": "display_data"
    },
    {
     "name": "stdout",
     "output_type": "stream",
     "text": [
      "count       246269\n",
      "unique           6\n",
      "top       MORTGAGE\n",
      "freq        126956\n",
      "Name: home_ownership, dtype: object\n"
     ]
    }
   ],
   "source": [
    "# Checking value count, Visual of variable distribution, and Discriptive Stats\n",
    "\n",
    "cat_count('home_ownership', 'Home Ownership')"
   ]
  },
  {
   "cell_type": "markdown",
   "metadata": {},
   "source": [
    "Key Points:\n",
    "\n",
    "* Mortgage is the the highest in terms of home ownership status, which could be useful to see this relationship during the univariant analysis to our response variable.\n",
    "\n",
    "* Rent and Own will also be interesting to see in respect to our response (target) variable. \n",
    "\n",
    "Consideration(s): \n",
    "\n",
    "* although Other, None, and Any are under 100 observation, these classes will nto be removed as it will be interesting to see it's relationship to our target. However, we will bin None and ANY to other"
   ]
  },
  {
   "cell_type": "markdown",
   "metadata": {},
   "source": [
    "#### Data Clensing Home Ownership"
   ]
  },
  {
   "cell_type": "code",
   "execution_count": 27,
   "metadata": {},
   "outputs": [],
   "source": [
    "# binning None and Any to Other\n",
    "\n",
    "Working_DF['home_ownership'].replace(['NONE', 'ANY'], 'OTHER', inplace=True)"
   ]
  },
  {
   "cell_type": "code",
   "execution_count": 28,
   "metadata": {},
   "outputs": [
    {
     "name": "stdout",
     "output_type": "stream",
     "text": [
      "MORTGAGE    126956\n",
      "RENT         94084\n",
      "OWN          25156\n",
      "ANY             53\n",
      "OTHER           11\n",
      "NONE             9\n",
      "Name: home_ownership, dtype: int64\n"
     ]
    },
    {
     "data": {
      "image/png": "[encoded data removed]",
      "text/plain": [
       "<Figure size 432x288 with 1 Axes>"
      ]
     },
     "metadata": {
      "needs_background": "light"
     },
     "output_type": "display_data"
    },
    {
     "name": "stdout",
     "output_type": "stream",
     "text": [
      "count       246269\n",
      "unique           4\n",
      "top       MORTGAGE\n",
      "freq        126956\n",
      "Name: home_ownership, dtype: object\n"
     ]
    }
   ],
   "source": [
    "cat_count('home_ownership', 'Home Ownership')"
   ]
  },
  {
   "cell_type": "markdown",
   "metadata": {},
   "source": [
    "### Verfification Status"
   ]
  },
  {
   "cell_type": "markdown",
   "metadata": {},
   "source": [
    "In this section we will explore the verification status variable.\n",
    "\n",
    "* verification_status: Indicates if income was verified by Lending CLub, not verified, or if the income source was verified\n",
    "\n",
    "This is important to understand how Lending Club pre-screening process of applicants, especially to see if potential loan candidates have any available funding. This also can be a qualitative view of how much risk a potential candidate could be from the onset prior to any transactional processing from the borrower. "
   ]
  },
  {
   "cell_type": "code",
   "execution_count": 30,
   "metadata": {},
   "outputs": [
    {
     "name": "stdout",
     "output_type": "stream",
     "text": [
      "Source Verified    102862\n",
      "Not Verified        73406\n",
      "Verified            70001\n",
      "Name: verification_status, dtype: int64\n"
     ]
    },
    {
     "data": {
      "image/png": "[encoded data removed]",
      "text/plain": [
       "<Figure size 432x288 with 1 Axes>"
      ]
     },
     "metadata": {
      "needs_background": "light"
     },
     "output_type": "display_data"
    },
    {
     "name": "stdout",
     "output_type": "stream",
     "text": [
      "count              246269\n",
      "unique                  3\n",
      "top       Source Verified\n",
      "freq               102862\n",
      "Name: verification_status, dtype: object\n"
     ]
    }
   ],
   "source": [
    "# Checking value count, Visual of variable distribution, and Discriptive Stats\n",
    "\n",
    "cat_count('verification_status', 'Home Ownership')"
   ]
  },
  {
   "cell_type": "markdown",
   "metadata": {},
   "source": [
    "Key Points:\n",
    "\n",
    "* Per Source Verified and Verified, we can see that a majority of borrowers have been verified.\n",
    "\n",
    "* In terms of Not Verified, I'd like to explore and see if their the distribution between between the response variable.\n",
    "\n",
    "Consideration(s):\n",
    "\n",
    "* Could possibly merge source verified and verified. This is will be considered post univariant analysis.\n"
   ]
  },
  {
   "cell_type": "markdown",
   "metadata": {},
   "source": [
    "### Loan Issue Date"
   ]
  },
  {
   "cell_type": "markdown",
   "metadata": {},
   "source": [
    "This section we will explore the issue_d (issue date of the loan).\n",
    "\n",
    "* issue_d: The month which the loan was funded\n",
    "\n",
    "One assumption prior to exploring this variable is that it should not be categorical but should be a date-time format. "
   ]
  },
  {
   "cell_type": "code",
   "execution_count": 31,
   "metadata": {},
   "outputs": [
    {
     "name": "stdout",
     "output_type": "stream",
     "text": [
      "Mar-2016    8711\n",
      "Oct-2015    7915\n",
      "Jul-2015    7864\n",
      "Dec-2015    7403\n",
      "Oct-2014    7119\n",
      "Jan-2015    6585\n",
      "Nov-2015    6228\n",
      "Apr-2015    6175\n",
      "Feb-2016    6062\n",
      "Aug-2015    6023\n",
      "May-2015    5647\n",
      "Jul-2014    5489\n",
      "Jun-2015    5016\n",
      "Jan-2016    4976\n",
      "Sep-2015    4885\n",
      "Nov-2014    4623\n",
      "Mar-2015    4504\n",
      "Apr-2016    4318\n",
      "Feb-2015    4248\n",
      "Jul-2016    4185\n",
      "Aug-2016    4116\n",
      "Jun-2016    3980\n",
      "Oct-2016    3743\n",
      "Dec-2016    3727\n",
      "Aug-2014    3645\n",
      "May-2014    3641\n",
      "Apr-2014    3563\n",
      "Nov-2016    3478\n",
      "Sep-2016    3303\n",
      "May-2016    3286\n",
      "Mar-2017    3282\n",
      "Jun-2014    3260\n",
      "May-2017    3169\n",
      "Jan-2017    3159\n",
      "Mar-2014    3118\n",
      "Jan-2014    3064\n",
      "Aug-2017    3002\n",
      "Nov-2013    2995\n",
      "Jun-2017    2953\n",
      "Dec-2013    2936\n",
      "Feb-2014    2915\n",
      "Jul-2017    2887\n",
      "Oct-2013    2841\n",
      "Feb-2017    2640\n",
      "Sep-2013    2637\n",
      "Sep-2017    2593\n",
      "Apr-2017    2535\n",
      "Aug-2013    2524\n",
      "Jul-2013    2323\n",
      "Oct-2017    2308\n",
      "Nov-2017    2239\n",
      "Jun-2013    2192\n",
      "May-2013    2078\n",
      "Sep-2014    2060\n",
      "Apr-2013    1916\n",
      "Dec-2017    1884\n",
      "Dec-2014    1880\n",
      "Mar-2013    1672\n",
      "Jan-2018    1672\n",
      "Feb-2013    1549\n",
      "Mar-2018    1369\n",
      "Jan-2013    1366\n",
      "Apr-2018    1363\n",
      "Nov-2012    1280\n",
      "May-2018    1268\n",
      "Feb-2018    1237\n",
      "Oct-2012    1218\n",
      "Sep-2012    1217\n",
      "Dec-2012    1207\n",
      "Jun-2018     907\n",
      "Jul-2018     849\n",
      "Aug-2018     668\n",
      "Sep-2018     461\n",
      "Oct-2018     400\n",
      "Nov-2018     317\n",
      "Dec-2018     231\n",
      "Aug-2012     170\n",
      "Name: issue_d, dtype: int64\n"
     ]
    },
    {
     "data": {
      "image/png": "[encoded data removed]",
      "text/plain": [
       "<Figure size 432x288 with 1 Axes>"
      ]
     },
     "metadata": {
      "needs_background": "light"
     },
     "output_type": "display_data"
    },
    {
     "name": "stdout",
     "output_type": "stream",
     "text": [
      "count       246269\n",
      "unique          77\n",
      "top       Mar-2016\n",
      "freq          8711\n",
      "Name: issue_d, dtype: object\n"
     ]
    }
   ],
   "source": [
    "# Checking value count, Visual of variable distribution, and Discriptive Stats\n",
    "\n",
    "cat_count(\"issue_d\", \"Loan Issue Date (Month)\")"
   ]
  },
  {
   "cell_type": "markdown",
   "metadata": {},
   "source": [
    "Key Points:\n",
    "\n",
    "* Interesting spread; however, at this point we just shows that more of how many points were issues during Month and Year.\n",
    "\n",
    "Consideration(s):\n",
    "\n",
    "* At this point i will leave it be until, we reach the preprocessing portion and I will consider either converting it to datetime or dropping the column."
   ]
  },
  {
   "cell_type": "markdown",
   "metadata": {},
   "source": [
    "### Payment Plan"
   ]
  },
  {
   "cell_type": "markdown",
   "metadata": {},
   "source": [
    "This section will explore the viable Payment Plan.\n",
    "\n",
    "* pymnt_plan: Indicates if a payment plan has been put in place for the loan\n",
    "\n",
    "This can be considered if the borrowers has set a payment plan or a plan-of-action on how to pay back the loan."
   ]
  },
  {
   "cell_type": "code",
   "execution_count": 32,
   "metadata": {},
   "outputs": [
    {
     "name": "stdout",
     "output_type": "stream",
     "text": [
      "n    246269\n",
      "Name: pymnt_plan, dtype: int64\n"
     ]
    },
    {
     "data": {
      "image/png": "[encoded data removed]",
      "text/plain": [
       "<Figure size 432x288 with 1 Axes>"
      ]
     },
     "metadata": {
      "needs_background": "light"
     },
     "output_type": "display_data"
    },
    {
     "name": "stdout",
     "output_type": "stream",
     "text": [
      "count     246269\n",
      "unique         1\n",
      "top            n\n",
      "freq      246269\n",
      "Name: pymnt_plan, dtype: object\n"
     ]
    }
   ],
   "source": [
    "# Checking value count, Visual of variable distribution, and Discriptive Stats\n",
    "\n",
    "cat_count(\"pymnt_plan\", \"Payment Plan\")"
   ]
  },
  {
   "cell_type": "markdown",
   "metadata": {},
   "source": [
    "Key Point:\n",
    "\n",
    "* All of the observations within the asset do not have a payment plan.\n",
    "\n",
    "Consideration(s):\n",
    "\n",
    "* Since all observations are not on a payment plan we will drop this from variable from our asset (dataset)."
   ]
  },
  {
   "cell_type": "markdown",
   "metadata": {},
   "source": [
    "#### Data Clensing Payment Plan"
   ]
  },
  {
   "cell_type": "code",
   "execution_count": 33,
   "metadata": {},
   "outputs": [],
   "source": [
    "# dropping pymnt_plan\n",
    "\n",
    "Working_DF.drop(labels='pymnt_plan', axis=1, inplace=True)"
   ]
  },
  {
   "cell_type": "code",
   "execution_count": 34,
   "metadata": {},
   "outputs": [
    {
     "name": "stdout",
     "output_type": "stream",
     "text": [
      "<class 'pandas.core.frame.DataFrame'>\n",
      "RangeIndex: 246269 entries, 0 to 246268\n",
      "Data columns (total 35 columns):\n",
      " #   Column                Non-Null Count   Dtype  \n",
      "---  ------                --------------   -----  \n",
      " 0   id                    246269 non-null  int64  \n",
      " 1   loan_amnt             246269 non-null  float64\n",
      " 2   term                  246269 non-null  object \n",
      " 3   int_rate              246269 non-null  float64\n",
      " 4   installment           246269 non-null  float64\n",
      " 5   grade                 246269 non-null  object \n",
      " 6   sub_grade             246269 non-null  object \n",
      " 7   emp_length            246269 non-null  int64  \n",
      " 8   home_ownership        246269 non-null  object \n",
      " 9   annual_inc            246269 non-null  float64\n",
      " 10  verification_status   246269 non-null  object \n",
      " 11  issue_d               246269 non-null  object \n",
      " 12  loan_status           246269 non-null  object \n",
      " 13  purpose               246269 non-null  object \n",
      " 14  title                 246269 non-null  object \n",
      " 15  zip_code              246269 non-null  object \n",
      " 16  addr_state            246269 non-null  object \n",
      " 17  dti                   246269 non-null  float64\n",
      " 18  earliest_cr_line      246269 non-null  object \n",
      " 19  fico_range_low        246269 non-null  float64\n",
      " 20  fico_range_high       246269 non-null  float64\n",
      " 21  inq_last_6mths        246269 non-null  float64\n",
      " 22  open_acc              246269 non-null  float64\n",
      " 23  pub_rec               246269 non-null  float64\n",
      " 24  revol_bal             246269 non-null  float64\n",
      " 25  revol_util            246269 non-null  float64\n",
      " 26  total_acc             246269 non-null  float64\n",
      " 27  initial_list_status   246269 non-null  object \n",
      " 28  recoveries            246269 non-null  float64\n",
      " 29  application_type      246269 non-null  object \n",
      " 30  tot_cur_bal           246269 non-null  float64\n",
      " 31  bc_util               246269 non-null  float64\n",
      " 32  mort_acc              246269 non-null  float64\n",
      " 33  pub_rec_bankruptcies  246269 non-null  float64\n",
      " 34  tax_liens             246269 non-null  float64\n",
      "dtypes: float64(19), int64(2), object(14)\n",
      "memory usage: 65.8+ MB\n"
     ]
    }
   ],
   "source": [
    "# Sanity checking \n",
    "Working_DF.info()"
   ]
  },
  {
   "cell_type": "markdown",
   "metadata": {},
   "source": [
    "### Purpose of the Loan"
   ]
  },
  {
   "cell_type": "markdown",
   "metadata": {},
   "source": [
    "This section will explore the loan purpose.\n",
    "\n",
    "* purpose: A category provided by the borrower for the loan request. \n",
    "\n",
    "This will be very helpful in understanding why applicants/candidates are opting for Lending Club's service"
   ]
  },
  {
   "cell_type": "code",
   "execution_count": 35,
   "metadata": {},
   "outputs": [
    {
     "name": "stdout",
     "output_type": "stream",
     "text": [
      "debt_consolidation    145597\n",
      "credit_card            53371\n",
      "home_improvement       16346\n",
      "other                  13382\n",
      "major_purchase          5160\n",
      "medical                 2803\n",
      "small_business          2399\n",
      "car                     2390\n",
      "vacation                1596\n",
      "moving                  1557\n",
      "house                   1360\n",
      "wedding                  169\n",
      "renewable_energy         139\n",
      "Name: purpose, dtype: int64\n"
     ]
    },
    {
     "data": {
      "image/png": "[encoded data removed]",
      "text/plain": [
       "<Figure size 432x288 with 1 Axes>"
      ]
     },
     "metadata": {
      "needs_background": "light"
     },
     "output_type": "display_data"
    },
    {
     "name": "stdout",
     "output_type": "stream",
     "text": [
      "count                 246269\n",
      "unique                    13\n",
      "top       debt_consolidation\n",
      "freq                  145597\n",
      "Name: purpose, dtype: object\n"
     ]
    }
   ],
   "source": [
    "# Checking value count, Visual of variable distribution, and Discriptive Stats\n",
    "\n",
    "cat_count(\"purpose\", \"Purpose of Loan\")"
   ]
  },
  {
   "cell_type": "markdown",
   "metadata": {},
   "source": [
    "Key Points:\n",
    "\n",
    "* Debt Consolidation seems to be the prevaling purpose of loans\n",
    "\n",
    "* This is really helpful in terms of understand the reason for applicants/candidates coming to Lending Club for their finanical needs.\n",
    "\n",
    "* Having both Debt Consolidation and Credit Card shows that clients are trying to reduce their debt liability or are trying to mitigate potential APR or interest from various financial vehicles."
   ]
  },
  {
   "cell_type": "markdown",
   "metadata": {},
   "source": [
    "### Title of Loan (Investor named purpose)"
   ]
  },
  {
   "cell_type": "markdown",
   "metadata": {},
   "source": [
    "This section will explore the title feature.\n",
    "\n",
    "* title: The loan title provided by the borrower\n",
    "\n",
    "We will take a gander to see if there is a difference between title and purpose. If there is not major difference we will then consider dropping on of features from the asset."
   ]
  },
  {
   "cell_type": "code",
   "execution_count": 36,
   "metadata": {},
   "outputs": [],
   "source": [
    "# Checking value count, Visual of variable distribution, and Discriptive Stats\n",
    "\n",
    "#cat_count(\"title\", \"Title of Loan (Investor named purpose)\")"
   ]
  },
  {
   "cell_type": "markdown",
   "metadata": {},
   "source": [
    "###### Due to the amount of titles we will explore it this feature in manageable chunks"
   ]
  },
  {
   "cell_type": "code",
   "execution_count": 37,
   "metadata": {},
   "outputs": [
    {
     "data": {
      "text/plain": [
       "count                 246269\n",
       "unique                 10039\n",
       "top       Debt consolidation\n",
       "freq                  129904\n",
       "Name: title, dtype: object"
      ]
     },
     "execution_count": 37,
     "metadata": {},
     "output_type": "execute_result"
    }
   ],
   "source": [
    "# Descriptive stats\n",
    "\n",
    "Working_DF['title'].describe()"
   ]
  },
  {
   "cell_type": "markdown",
   "metadata": {},
   "source": [
    "* There are over 10k uninique values versus purpose which has only 13."
   ]
  },
  {
   "cell_type": "code",
   "execution_count": 38,
   "metadata": {},
   "outputs": [
    {
     "data": {
      "text/plain": [
       "Debt consolidation         129904\n",
       "Credit card refinancing     47201\n",
       "Home improvement            14874\n",
       "Other                       12382\n",
       "Major purchase               4728\n",
       "Medical expenses             2617\n",
       "Debt Consolidation           2353\n",
       "Business                     2245\n",
       "Car financing                2177\n",
       "Vacation                     1511\n",
       "Name: title, dtype: int64"
      ]
     },
     "execution_count": 38,
     "metadata": {},
     "output_type": "execute_result"
    }
   ],
   "source": [
    "# for the purpose of looking at the top 10 titles\n",
    "\n",
    "Working_DF['title'].value_counts().head(10)"
   ]
  },
  {
   "cell_type": "markdown",
   "metadata": {},
   "source": [
    "Key Points:\n",
    "\n",
    "* This seems to be a more detailed and robust categorization of loan purposes, however it is quite extensive and some repetitions. \n",
    "\n",
    "Consideration(s):\n",
    "\n",
    "* Due tot the volume and repetitions this variable will be droped from the asset."
   ]
  },
  {
   "cell_type": "markdown",
   "metadata": {},
   "source": [
    "#### Data Clensing Title of Loan (Investor named purpose)"
   ]
  },
  {
   "cell_type": "code",
   "execution_count": 39,
   "metadata": {},
   "outputs": [],
   "source": [
    "# Droping title from asset\n",
    "\n",
    "\n",
    "Working_DF.drop('title', axis=1, inplace=True)"
   ]
  },
  {
   "cell_type": "code",
   "execution_count": 40,
   "metadata": {},
   "outputs": [
    {
     "name": "stdout",
     "output_type": "stream",
     "text": [
      "<class 'pandas.core.frame.DataFrame'>\n",
      "RangeIndex: 246269 entries, 0 to 246268\n",
      "Data columns (total 34 columns):\n",
      " #   Column                Non-Null Count   Dtype  \n",
      "---  ------                --------------   -----  \n",
      " 0   id                    246269 non-null  int64  \n",
      " 1   loan_amnt             246269 non-null  float64\n",
      " 2   term                  246269 non-null  object \n",
      " 3   int_rate              246269 non-null  float64\n",
      " 4   installment           246269 non-null  float64\n",
      " 5   grade                 246269 non-null  object \n",
      " 6   sub_grade             246269 non-null  object \n",
      " 7   emp_length            246269 non-null  int64  \n",
      " 8   home_ownership        246269 non-null  object \n",
      " 9   annual_inc            246269 non-null  float64\n",
      " 10  verification_status   246269 non-null  object \n",
      " 11  issue_d               246269 non-null  object \n",
      " 12  loan_status           246269 non-null  object \n",
      " 13  purpose               246269 non-null  object \n",
      " 14  zip_code              246269 non-null  object \n",
      " 15  addr_state            246269 non-null  object \n",
      " 16  dti                   246269 non-null  float64\n",
      " 17  earliest_cr_line      246269 non-null  object \n",
      " 18  fico_range_low        246269 non-null  float64\n",
      " 19  fico_range_high       246269 non-null  float64\n",
      " 20  inq_last_6mths        246269 non-null  float64\n",
      " 21  open_acc              246269 non-null  float64\n",
      " 22  pub_rec               246269 non-null  float64\n",
      " 23  revol_bal             246269 non-null  float64\n",
      " 24  revol_util            246269 non-null  float64\n",
      " 25  total_acc             246269 non-null  float64\n",
      " 26  initial_list_status   246269 non-null  object \n",
      " 27  recoveries            246269 non-null  float64\n",
      " 28  application_type      246269 non-null  object \n",
      " 29  tot_cur_bal           246269 non-null  float64\n",
      " 30  bc_util               246269 non-null  float64\n",
      " 31  mort_acc              246269 non-null  float64\n",
      " 32  pub_rec_bankruptcies  246269 non-null  float64\n",
      " 33  tax_liens             246269 non-null  float64\n",
      "dtypes: float64(19), int64(2), object(13)\n",
      "memory usage: 63.9+ MB\n"
     ]
    }
   ],
   "source": [
    "# Sanity check\n",
    "Working_DF.info()"
   ]
  },
  {
   "cell_type": "markdown",
   "metadata": {},
   "source": [
    "### Locational Variables, State Address and Zip Code"
   ]
  },
  {
   "cell_type": "markdown",
   "metadata": {},
   "source": [
    "This section we will explore locational variables, state address and zip code.\n",
    "\n",
    "* addr_state: The state (such as NJ, NY, MA) provided by the borrower in the loan application\n",
    "\n",
    "* zip_code: The first 3 numbers of the zip code provided by the borrower in the loan application.\n",
    "\n",
    "A few assumptions and initial considerations prior to validity check:\n",
    "\n",
    "* State Address: this would be helpful to understand the lay of the land of Lending Club's customer demographic and also in respect to our response variable. In terms of modeling versus analysis.\n",
    "\n",
    "* Zip Code: due to the potential three number of the zip this may prove to be not useful. Nonetheless, we will still explore to come to decision to keep this feature. "
   ]
  },
  {
   "cell_type": "code",
   "execution_count": 41,
   "metadata": {},
   "outputs": [
    {
     "name": "stdout",
     "output_type": "stream",
     "text": [
      "CA    34771\n",
      "TX    21177\n",
      "NY    18769\n",
      "FL    16857\n",
      "IL     9917\n",
      "NJ     8923\n",
      "PA     8755\n",
      "OH     8429\n",
      "GA     7861\n",
      "VA     6864\n",
      "NC     6849\n",
      "MI     6602\n",
      "AZ     6048\n",
      "MA     5664\n",
      "MD     5620\n",
      "WA     5479\n",
      "CO     4865\n",
      "MN     4527\n",
      "IN     4364\n",
      "MO     3988\n",
      "TN     3934\n",
      "NV     3744\n",
      "CT     3606\n",
      "WI     3451\n",
      "AL     3086\n",
      "LA     2888\n",
      "OR     2855\n",
      "SC     2781\n",
      "KY     2507\n",
      "OK     2353\n",
      "KS     2175\n",
      "AR     1880\n",
      "UT     1845\n",
      "NM     1326\n",
      "NH     1246\n",
      "MS     1239\n",
      "HI     1201\n",
      "RI     1091\n",
      "WV      892\n",
      "NE      689\n",
      "DE      686\n",
      "MT      678\n",
      "AK      641\n",
      "DC      569\n",
      "WY      538\n",
      "SD      520\n",
      "VT      512\n",
      "ME      381\n",
      "ND      320\n",
      "ID      305\n",
      "IA        1\n",
      "Name: addr_state, dtype: int64\n"
     ]
    },
    {
     "data": {
      "image/png": "[encoded data removed]",
      "text/plain": [
       "<Figure size 432x288 with 1 Axes>"
      ]
     },
     "metadata": {
      "needs_background": "light"
     },
     "output_type": "display_data"
    },
    {
     "name": "stdout",
     "output_type": "stream",
     "text": [
      "count     246269\n",
      "unique        51\n",
      "top           CA\n",
      "freq       34771\n",
      "Name: addr_state, dtype: object\n"
     ]
    }
   ],
   "source": [
    "# # Checking value count, Visual of variable distribution, and Discriptive Stats\n",
    "\n",
    "cat_count(\"addr_state\", \"Borrowers in The US\")"
   ]
  },
  {
   "cell_type": "markdown",
   "metadata": {},
   "source": [
    "Key Points:\n",
    "\n",
    "* We see the that CA, NY, FL, and TX have a large amount of borrowers.\n",
    "\n",
    "Consideration(s):\n",
    "\n",
    "* This gives us an idea of the distribution of borrowers within each state. \n",
    "\n",
    "* In terms of model usefullness, we will hold off from removing until we complete the univariant and bivariant analysis.\n"
   ]
  },
  {
   "cell_type": "code",
   "execution_count": 42,
   "metadata": {},
   "outputs": [
    {
     "data": {
      "text/plain": [
       "898"
      ]
     },
     "execution_count": 42,
     "metadata": {},
     "output_type": "execute_result"
    }
   ],
   "source": [
    "# Zip Code, I will check the unique values first\n",
    "\n",
    "Working_DF.zip_code.nunique()"
   ]
  },
  {
   "cell_type": "code",
   "execution_count": 43,
   "metadata": {},
   "outputs": [
    {
     "data": {
      "text/plain": [
       "72810     080xx\n",
       "60699     681xx\n",
       "164105    802xx\n",
       "202118    986xx\n",
       "113447    025xx\n",
       "228689    011xx\n",
       "164568    801xx\n",
       "103022    840xx\n",
       "200281    700xx\n",
       "77258     806xx\n",
       "Name: zip_code, dtype: object"
      ]
     },
     "execution_count": 43,
     "metadata": {},
     "output_type": "execute_result"
    }
   ],
   "source": [
    "# checking a random sample \n",
    "\n",
    "Working_DF.zip_code.sample(10)"
   ]
  },
  {
   "cell_type": "markdown",
   "metadata": {},
   "source": [
    "Key Points:\n",
    "\n",
    "* At this point there are over 898 zip code and just showing the first three digits of the five numbers.\n",
    "\n",
    "* This is not useful to our analysis or model(s).\n",
    "\n",
    "Consideration(s):\n",
    "\n",
    "* We will remove zip code from our features within our asset."
   ]
  },
  {
   "cell_type": "markdown",
   "metadata": {},
   "source": [
    "#### Data Cleaning Zip Code"
   ]
  },
  {
   "cell_type": "code",
   "execution_count": 44,
   "metadata": {},
   "outputs": [],
   "source": [
    "# Removing zip_code from the features within our asset\n",
    "\n",
    "Working_DF.drop(labels='zip_code', axis=1, inplace=True)"
   ]
  },
  {
   "cell_type": "code",
   "execution_count": 45,
   "metadata": {},
   "outputs": [
    {
     "data": {
      "text/plain": [
       "Index(['id', 'loan_amnt', 'term', 'int_rate', 'installment', 'grade',\n",
       "       'sub_grade', 'emp_length', 'home_ownership', 'annual_inc',\n",
       "       'verification_status', 'issue_d', 'loan_status', 'purpose',\n",
       "       'addr_state', 'dti', 'earliest_cr_line', 'fico_range_low',\n",
       "       'fico_range_high', 'inq_last_6mths', 'open_acc', 'pub_rec', 'revol_bal',\n",
       "       'revol_util', 'total_acc', 'initial_list_status', 'recoveries',\n",
       "       'application_type', 'tot_cur_bal', 'bc_util', 'mort_acc',\n",
       "       'pub_rec_bankruptcies', 'tax_liens'],\n",
       "      dtype='object')"
      ]
     },
     "execution_count": 45,
     "metadata": {},
     "output_type": "execute_result"
    }
   ],
   "source": [
    "# sanity checking \n",
    "\n",
    "Working_DF.columns"
   ]
  },
  {
   "cell_type": "markdown",
   "metadata": {},
   "source": [
    "### Earliest Credit Line"
   ]
  },
  {
   "cell_type": "markdown",
   "metadata": {},
   "source": [
    "This section we will expore earliest_credit_line.\n",
    "\n",
    "* earliest_cr_line: The month the borrower's earliest reported credit line was opened\n",
    "\n",
    "This is a import feature to understand the credit history of borrowers. Per domain knowledge this feature could prove useful during our modeling stage."
   ]
  },
  {
   "cell_type": "code",
   "execution_count": 46,
   "metadata": {},
   "outputs": [
    {
     "name": "stdout",
     "output_type": "stream",
     "text": [
      "Aug-2001    1901\n",
      "Sep-2003    1748\n",
      "Sep-2004    1721\n",
      "Sep-2002    1709\n",
      "Oct-2003    1706\n",
      "            ... \n",
      "Jun-1962       1\n",
      "Jun-1949       1\n",
      "Apr-1962       1\n",
      "Jul-1959       1\n",
      "Aug-1959       1\n",
      "Name: earliest_cr_line, Length: 662, dtype: int64\n"
     ]
    },
    {
     "data": {
      "image/png": "[encoded data removed]",
      "text/plain": [
       "<Figure size 432x288 with 1 Axes>"
      ]
     },
     "metadata": {
      "needs_background": "light"
     },
     "output_type": "display_data"
    },
    {
     "name": "stdout",
     "output_type": "stream",
     "text": [
      "count       246269\n",
      "unique         662\n",
      "top       Aug-2001\n",
      "freq          1901\n",
      "Name: earliest_cr_line, dtype: object\n"
     ]
    }
   ],
   "source": [
    "# # Checking value count, Visual of variable distribution, and Discriptive Stats\n",
    "\n",
    "cat_count(\"earliest_cr_line\", \"Earliest Credit Line of Borrower\")"
   ]
  },
  {
   "cell_type": "markdown",
   "metadata": {},
   "source": [
    "Key Points:\n",
    "\n",
    "* Over 662 unique values.\n",
    "\n",
    "* In regard to the present year, the top credit line is close to 20 years.\n",
    "\n",
    "Consideration(s):\n",
    "\n",
    "* We do need to do some data wrangling in terms of removing the month and keeping just the year."
   ]
  },
  {
   "cell_type": "markdown",
   "metadata": {},
   "source": [
    "#### Data Cleaning Earliest Credit Line"
   ]
  },
  {
   "cell_type": "code",
   "execution_count": 47,
   "metadata": {},
   "outputs": [],
   "source": [
    "# removing the month from earliest_cr_line\n",
    "\n",
    "Working_DF['earliest_cr_line'] = Working_DF['earliest_cr_line'].apply(lambda x : int(x[-4:]))"
   ]
  },
  {
   "cell_type": "code",
   "execution_count": 48,
   "metadata": {},
   "outputs": [
    {
     "data": {
      "text/plain": [
       "count    246269.000000\n",
       "mean       1999.164060\n",
       "std           7.232946\n",
       "min        1949.000000\n",
       "25%        1995.000000\n",
       "50%        2000.000000\n",
       "75%        2004.000000\n",
       "max        2015.000000\n",
       "Name: earliest_cr_line, dtype: float64"
      ]
     },
     "execution_count": 48,
     "metadata": {},
     "output_type": "execute_result"
    }
   ],
   "source": [
    "# Sanity checking\n",
    "\n",
    "Working_DF.earliest_cr_line.describe()"
   ]
  },
  {
   "cell_type": "markdown",
   "metadata": {},
   "source": [
    "### Initial Lists Status"
   ]
  },
  {
   "cell_type": "markdown",
   "metadata": {},
   "source": [
    "We will explore inital list status. \n",
    "\n",
    "* initial_list_status: The initial listing status of the loan. Possible values are – W, F\n",
    "\n",
    "In terms of domain knowledge I'm unfimilar with this variable, but we will look into it to come to a decision if it will be useful for us moving forward."
   ]
  },
  {
   "cell_type": "code",
   "execution_count": 49,
   "metadata": {},
   "outputs": [
    {
     "name": "stdout",
     "output_type": "stream",
     "text": [
      "w    150365\n",
      "f     95904\n",
      "Name: initial_list_status, dtype: int64\n"
     ]
    },
    {
     "data": {
      "image/png": "[encoded data removed]",
      "text/plain": [
       "<Figure size 432x288 with 1 Axes>"
      ]
     },
     "metadata": {
      "needs_background": "light"
     },
     "output_type": "display_data"
    },
    {
     "name": "stdout",
     "output_type": "stream",
     "text": [
      "count     246269\n",
      "unique         2\n",
      "top            w\n",
      "freq      150365\n",
      "Name: initial_list_status, dtype: object\n"
     ]
    }
   ],
   "source": [
    "# # Checking value count, Visual of variable distribution, and Discriptive Stats\n",
    "\n",
    "cat_count(\"initial_list_status\", \"Initial Loan Status\")"
   ]
  },
  {
   "cell_type": "markdown",
   "metadata": {},
   "source": [
    "Key Points:\n",
    "\n",
    "* I'm unsure if this fall in the category of Note Statuses: In Funding, still receiving funding from investor or Withdrawn by Applicant, Borrower withdrew their loan application.\n",
    "\n",
    "Consideration(s):\n",
    "\n",
    "* I will keep this for now until for analysis purposes."
   ]
  },
  {
   "cell_type": "markdown",
   "metadata": {},
   "source": [
    "### Application Type"
   ]
  },
  {
   "cell_type": "markdown",
   "metadata": {},
   "source": [
    "This section we will dive into application type.\n",
    "\n",
    "* application_type: Indicates whether the loan is an individual application or a joint application with two co-borrowers\n",
    "\n",
    "This is helpful to understand if borrowers are coming with as an individual or joint. In terms of understanding risk, joint applicants tend to show a high credit worthiness since it's an aggrigant of two individuals. While inidvidual applicants, for lack of a better term, have more hurdles to prove credit worthiness. "
   ]
  },
  {
   "cell_type": "code",
   "execution_count": 50,
   "metadata": {},
   "outputs": [
    {
     "name": "stdout",
     "output_type": "stream",
     "text": [
      "Individual    241649\n",
      "Joint App       4620\n",
      "Name: application_type, dtype: int64\n"
     ]
    },
    {
     "data": {
      "image/png": "[encoded data removed]",
      "text/plain": [
       "<Figure size 432x288 with 1 Axes>"
      ]
     },
     "metadata": {
      "needs_background": "light"
     },
     "output_type": "display_data"
    },
    {
     "name": "stdout",
     "output_type": "stream",
     "text": [
      "count         246269\n",
      "unique             2\n",
      "top       Individual\n",
      "freq          241649\n",
      "Name: application_type, dtype: object\n"
     ]
    }
   ],
   "source": [
    "# # Checking value count, Visual of variable distribution, and Discriptive Stats\n",
    "\n",
    "cat_count(\"application_type\", \"Application Type (Joint or Individual)\")"
   ]
  },
  {
   "cell_type": "markdown",
   "metadata": {},
   "source": [
    "Key Points: \n",
    "\n",
    "* As expected more individual application, this could be very indicative when we look back at purpose of the loan. We saw there was a large number of debt consolidation and credit card. \n",
    "\n",
    "Consideration(s):\n",
    "\n",
    "* This feature will remain as it will be useful to our model."
   ]
  },
  {
   "cell_type": "markdown",
   "metadata": {},
   "source": [
    "## Macro Validity Check of Descret Variables"
   ]
  },
  {
   "cell_type": "code",
   "execution_count": 51,
   "metadata": {
    "scrolled": true
   },
   "outputs": [
    {
     "data": {
      "text/html": [
       "<div>\n",
       "<style scoped>\n",
       "    .dataframe tbody tr th:only-of-type {\n",
       "        vertical-align: middle;\n",
       "    }\n",
       "\n",
       "    .dataframe tbody tr th {\n",
       "        vertical-align: top;\n",
       "    }\n",
       "\n",
       "    .dataframe thead th {\n",
       "        text-align: right;\n",
       "    }\n",
       "</style>\n",
       "<table border=\"1\" class=\"dataframe\">\n",
       "  <thead>\n",
       "    <tr style=\"text-align: right;\">\n",
       "      <th></th>\n",
       "      <th>term</th>\n",
       "      <th>grade</th>\n",
       "      <th>sub_grade</th>\n",
       "      <th>home_ownership</th>\n",
       "      <th>verification_status</th>\n",
       "      <th>issue_d</th>\n",
       "      <th>loan_status</th>\n",
       "      <th>purpose</th>\n",
       "      <th>addr_state</th>\n",
       "      <th>initial_list_status</th>\n",
       "      <th>application_type</th>\n",
       "    </tr>\n",
       "  </thead>\n",
       "  <tbody>\n",
       "    <tr>\n",
       "      <th>count</th>\n",
       "      <td>246269</td>\n",
       "      <td>246269</td>\n",
       "      <td>246269</td>\n",
       "      <td>246269</td>\n",
       "      <td>246269</td>\n",
       "      <td>246269</td>\n",
       "      <td>246269</td>\n",
       "      <td>246269</td>\n",
       "      <td>246269</td>\n",
       "      <td>246269</td>\n",
       "      <td>246269</td>\n",
       "    </tr>\n",
       "    <tr>\n",
       "      <th>unique</th>\n",
       "      <td>2</td>\n",
       "      <td>7</td>\n",
       "      <td>35</td>\n",
       "      <td>4</td>\n",
       "      <td>3</td>\n",
       "      <td>77</td>\n",
       "      <td>2</td>\n",
       "      <td>13</td>\n",
       "      <td>51</td>\n",
       "      <td>2</td>\n",
       "      <td>2</td>\n",
       "    </tr>\n",
       "    <tr>\n",
       "      <th>top</th>\n",
       "      <td>36 months</td>\n",
       "      <td>C</td>\n",
       "      <td>C1</td>\n",
       "      <td>MORTGAGE</td>\n",
       "      <td>Source Verified</td>\n",
       "      <td>Mar-2016</td>\n",
       "      <td>Fully Paid</td>\n",
       "      <td>debt_consolidation</td>\n",
       "      <td>CA</td>\n",
       "      <td>w</td>\n",
       "      <td>Individual</td>\n",
       "    </tr>\n",
       "    <tr>\n",
       "      <th>freq</th>\n",
       "      <td>183412</td>\n",
       "      <td>71260</td>\n",
       "      <td>15641</td>\n",
       "      <td>126956</td>\n",
       "      <td>102862</td>\n",
       "      <td>8711</td>\n",
       "      <td>197386</td>\n",
       "      <td>145597</td>\n",
       "      <td>34771</td>\n",
       "      <td>150365</td>\n",
       "      <td>241649</td>\n",
       "    </tr>\n",
       "  </tbody>\n",
       "</table>\n",
       "</div>"
      ],
      "text/plain": [
       "              term   grade sub_grade home_ownership verification_status  \\\n",
       "count       246269  246269    246269         246269              246269   \n",
       "unique           2       7        35              4                   3   \n",
       "top      36 months       C        C1       MORTGAGE     Source Verified   \n",
       "freq        183412   71260     15641         126956              102862   \n",
       "\n",
       "         issue_d loan_status             purpose addr_state  \\\n",
       "count     246269      246269              246269     246269   \n",
       "unique        77           2                  13         51   \n",
       "top     Mar-2016  Fully Paid  debt_consolidation         CA   \n",
       "freq        8711      197386              145597      34771   \n",
       "\n",
       "       initial_list_status application_type  \n",
       "count               246269           246269  \n",
       "unique                   2                2  \n",
       "top                      w       Individual  \n",
       "freq                150365           241649  "
      ]
     },
     "execution_count": 51,
     "metadata": {},
     "output_type": "execute_result"
    }
   ],
   "source": [
    "# Checking Summary Stats for all categorical variables\n",
    "\n",
    "categorical = Working_DF.select_dtypes('object')\n",
    "categorical.describe()\n",
    "\n"
   ]
  },
  {
   "cell_type": "code",
   "execution_count": 52,
   "metadata": {
    "scrolled": true
   },
   "outputs": [
    {
     "data": {
      "text/plain": [
       "['addr_state',\n",
       " 'application_type',\n",
       " 'grade',\n",
       " 'home_ownership',\n",
       " 'initial_list_status',\n",
       " 'issue_d',\n",
       " 'loan_status',\n",
       " 'purpose',\n",
       " 'sub_grade',\n",
       " 'term',\n",
       " 'verification_status']"
      ]
     },
     "execution_count": 52,
     "metadata": {},
     "output_type": "execute_result"
    }
   ],
   "source": [
    "# Sorted list of categorical variables\n",
    "\n",
    "sorted(categorical)\n"
   ]
  },
  {
   "cell_type": "code",
   "execution_count": 53,
   "metadata": {},
   "outputs": [
    {
     "data": {
      "text/plain": [
       "(246269, 11)"
      ]
     },
     "execution_count": 53,
     "metadata": {},
     "output_type": "execute_result"
    }
   ],
   "source": [
    "# checking shape of categorical features\n",
    "categorical.shape"
   ]
  },
  {
   "cell_type": "markdown",
   "metadata": {},
   "source": [
    "* At this point we went from 16 categorical viables to 11"
   ]
  },
  {
   "cell_type": "markdown",
   "metadata": {},
   "source": [
    "## Continuous and Numerical Variables Validity Check"
   ]
  },
  {
   "cell_type": "code",
   "execution_count": 54,
   "metadata": {},
   "outputs": [
    {
     "data": {
      "text/html": [
       "<div>\n",
       "<style scoped>\n",
       "    .dataframe tbody tr th:only-of-type {\n",
       "        vertical-align: middle;\n",
       "    }\n",
       "\n",
       "    .dataframe tbody tr th {\n",
       "        vertical-align: top;\n",
       "    }\n",
       "\n",
       "    .dataframe thead th {\n",
       "        text-align: right;\n",
       "    }\n",
       "</style>\n",
       "<table border=\"1\" class=\"dataframe\">\n",
       "  <thead>\n",
       "    <tr style=\"text-align: right;\">\n",
       "      <th></th>\n",
       "      <th>id</th>\n",
       "      <th>loan_amnt</th>\n",
       "      <th>int_rate</th>\n",
       "      <th>installment</th>\n",
       "      <th>emp_length</th>\n",
       "      <th>annual_inc</th>\n",
       "      <th>dti</th>\n",
       "      <th>earliest_cr_line</th>\n",
       "      <th>fico_range_low</th>\n",
       "      <th>fico_range_high</th>\n",
       "      <th>inq_last_6mths</th>\n",
       "      <th>open_acc</th>\n",
       "      <th>pub_rec</th>\n",
       "      <th>revol_bal</th>\n",
       "      <th>revol_util</th>\n",
       "      <th>total_acc</th>\n",
       "      <th>recoveries</th>\n",
       "      <th>tot_cur_bal</th>\n",
       "      <th>bc_util</th>\n",
       "      <th>mort_acc</th>\n",
       "      <th>pub_rec_bankruptcies</th>\n",
       "      <th>tax_liens</th>\n",
       "    </tr>\n",
       "  </thead>\n",
       "  <tbody>\n",
       "    <tr>\n",
       "      <th>count</th>\n",
       "      <td>5.000000e+00</td>\n",
       "      <td>5.000000</td>\n",
       "      <td>5.000000</td>\n",
       "      <td>5.000000</td>\n",
       "      <td>5.000000</td>\n",
       "      <td>5.000000</td>\n",
       "      <td>5.00000</td>\n",
       "      <td>5.000000</td>\n",
       "      <td>5.00000</td>\n",
       "      <td>5.00000</td>\n",
       "      <td>5.00000</td>\n",
       "      <td>5.00000</td>\n",
       "      <td>5.000000</td>\n",
       "      <td>5.000000</td>\n",
       "      <td>5.000000</td>\n",
       "      <td>5.000000</td>\n",
       "      <td>5.000000</td>\n",
       "      <td>5.000000</td>\n",
       "      <td>5.000000</td>\n",
       "      <td>5.000000</td>\n",
       "      <td>5.000000</td>\n",
       "      <td>5.0</td>\n",
       "    </tr>\n",
       "    <tr>\n",
       "      <th>mean</th>\n",
       "      <td>4.620292e+07</td>\n",
       "      <td>16190.000000</td>\n",
       "      <td>16.616000</td>\n",
       "      <td>492.000000</td>\n",
       "      <td>4.000000</td>\n",
       "      <td>63862.000000</td>\n",
       "      <td>22.67000</td>\n",
       "      <td>1997.000000</td>\n",
       "      <td>673.00000</td>\n",
       "      <td>677.00000</td>\n",
       "      <td>0.80000</td>\n",
       "      <td>15.20000</td>\n",
       "      <td>0.200000</td>\n",
       "      <td>18752.600000</td>\n",
       "      <td>57.420000</td>\n",
       "      <td>38.200000</td>\n",
       "      <td>459.722000</td>\n",
       "      <td>193589.800000</td>\n",
       "      <td>65.040000</td>\n",
       "      <td>1.600000</td>\n",
       "      <td>0.200000</td>\n",
       "      <td>0.0</td>\n",
       "    </tr>\n",
       "    <tr>\n",
       "      <th>std</th>\n",
       "      <td>3.956117e+07</td>\n",
       "      <td>8119.759849</td>\n",
       "      <td>5.334658</td>\n",
       "      <td>256.180065</td>\n",
       "      <td>3.464102</td>\n",
       "      <td>23251.617578</td>\n",
       "      <td>4.73933</td>\n",
       "      <td>6.284903</td>\n",
       "      <td>14.40486</td>\n",
       "      <td>14.40486</td>\n",
       "      <td>1.30384</td>\n",
       "      <td>7.79102</td>\n",
       "      <td>0.447214</td>\n",
       "      <td>15144.788024</td>\n",
       "      <td>22.605464</td>\n",
       "      <td>12.969194</td>\n",
       "      <td>1027.969643</td>\n",
       "      <td>84796.686505</td>\n",
       "      <td>30.908704</td>\n",
       "      <td>0.894427</td>\n",
       "      <td>0.447214</td>\n",
       "      <td>0.0</td>\n",
       "    </tr>\n",
       "    <tr>\n",
       "      <th>min</th>\n",
       "      <td>6.728064e+06</td>\n",
       "      <td>6950.000000</td>\n",
       "      <td>11.530000</td>\n",
       "      <td>243.930000</td>\n",
       "      <td>1.000000</td>\n",
       "      <td>41810.000000</td>\n",
       "      <td>17.25000</td>\n",
       "      <td>1988.000000</td>\n",
       "      <td>660.00000</td>\n",
       "      <td>664.00000</td>\n",
       "      <td>0.00000</td>\n",
       "      <td>6.00000</td>\n",
       "      <td>0.000000</td>\n",
       "      <td>7459.000000</td>\n",
       "      <td>25.300000</td>\n",
       "      <td>22.000000</td>\n",
       "      <td>0.000000</td>\n",
       "      <td>62916.000000</td>\n",
       "      <td>27.200000</td>\n",
       "      <td>0.000000</td>\n",
       "      <td>0.000000</td>\n",
       "      <td>0.0</td>\n",
       "    </tr>\n",
       "    <tr>\n",
       "      <th>25%</th>\n",
       "      <td>1.073581e+07</td>\n",
       "      <td>10000.000000</td>\n",
       "      <td>12.690000</td>\n",
       "      <td>329.910000</td>\n",
       "      <td>3.000000</td>\n",
       "      <td>45000.000000</td>\n",
       "      <td>19.41000</td>\n",
       "      <td>1995.000000</td>\n",
       "      <td>665.00000</td>\n",
       "      <td>669.00000</td>\n",
       "      <td>0.00000</td>\n",
       "      <td>9.00000</td>\n",
       "      <td>0.000000</td>\n",
       "      <td>9269.000000</td>\n",
       "      <td>56.300000</td>\n",
       "      <td>28.000000</td>\n",
       "      <td>0.000000</td>\n",
       "      <td>173292.000000</td>\n",
       "      <td>39.400000</td>\n",
       "      <td>2.000000</td>\n",
       "      <td>0.000000</td>\n",
       "      <td>0.0</td>\n",
       "    </tr>\n",
       "    <tr>\n",
       "      <th>50%</th>\n",
       "      <td>5.110581e+07</td>\n",
       "      <td>15000.000000</td>\n",
       "      <td>15.880000</td>\n",
       "      <td>440.190000</td>\n",
       "      <td>3.000000</td>\n",
       "      <td>65000.000000</td>\n",
       "      <td>22.22000</td>\n",
       "      <td>1996.000000</td>\n",
       "      <td>665.00000</td>\n",
       "      <td>669.00000</td>\n",
       "      <td>0.00000</td>\n",
       "      <td>16.00000</td>\n",
       "      <td>0.000000</td>\n",
       "      <td>10723.000000</td>\n",
       "      <td>58.000000</td>\n",
       "      <td>43.000000</td>\n",
       "      <td>0.000000</td>\n",
       "      <td>197096.000000</td>\n",
       "      <td>71.000000</td>\n",
       "      <td>2.000000</td>\n",
       "      <td>0.000000</td>\n",
       "      <td>0.0</td>\n",
       "    </tr>\n",
       "    <tr>\n",
       "      <th>75%</th>\n",
       "      <td>5.922938e+07</td>\n",
       "      <td>24000.000000</td>\n",
       "      <td>17.990000</td>\n",
       "      <td>542.280000</td>\n",
       "      <td>3.000000</td>\n",
       "      <td>67500.000000</td>\n",
       "      <td>25.24000</td>\n",
       "      <td>2003.000000</td>\n",
       "      <td>680.00000</td>\n",
       "      <td>684.00000</td>\n",
       "      <td>1.00000</td>\n",
       "      <td>20.00000</td>\n",
       "      <td>0.000000</td>\n",
       "      <td>22654.000000</td>\n",
       "      <td>58.300000</td>\n",
       "      <td>44.000000</td>\n",
       "      <td>0.000000</td>\n",
       "      <td>253377.000000</td>\n",
       "      <td>89.200000</td>\n",
       "      <td>2.000000</td>\n",
       "      <td>0.000000</td>\n",
       "      <td>0.0</td>\n",
       "    </tr>\n",
       "    <tr>\n",
       "      <th>max</th>\n",
       "      <td>1.032155e+08</td>\n",
       "      <td>25000.000000</td>\n",
       "      <td>24.990000</td>\n",
       "      <td>903.690000</td>\n",
       "      <td>10.000000</td>\n",
       "      <td>100000.000000</td>\n",
       "      <td>29.23000</td>\n",
       "      <td>2003.000000</td>\n",
       "      <td>695.00000</td>\n",
       "      <td>699.00000</td>\n",
       "      <td>3.00000</td>\n",
       "      <td>25.00000</td>\n",
       "      <td>1.000000</td>\n",
       "      <td>43658.000000</td>\n",
       "      <td>89.200000</td>\n",
       "      <td>54.000000</td>\n",
       "      <td>2298.610000</td>\n",
       "      <td>281268.000000</td>\n",
       "      <td>98.400000</td>\n",
       "      <td>2.000000</td>\n",
       "      <td>1.000000</td>\n",
       "      <td>0.0</td>\n",
       "    </tr>\n",
       "  </tbody>\n",
       "</table>\n",
       "</div>"
      ],
      "text/plain": [
       "                 id     loan_amnt   int_rate  installment  emp_length  \\\n",
       "count  5.000000e+00      5.000000   5.000000     5.000000    5.000000   \n",
       "mean   4.620292e+07  16190.000000  16.616000   492.000000    4.000000   \n",
       "std    3.956117e+07   8119.759849   5.334658   256.180065    3.464102   \n",
       "min    6.728064e+06   6950.000000  11.530000   243.930000    1.000000   \n",
       "25%    1.073581e+07  10000.000000  12.690000   329.910000    3.000000   \n",
       "50%    5.110581e+07  15000.000000  15.880000   440.190000    3.000000   \n",
       "75%    5.922938e+07  24000.000000  17.990000   542.280000    3.000000   \n",
       "max    1.032155e+08  25000.000000  24.990000   903.690000   10.000000   \n",
       "\n",
       "          annual_inc       dti  earliest_cr_line  fico_range_low  \\\n",
       "count       5.000000   5.00000          5.000000         5.00000   \n",
       "mean    63862.000000  22.67000       1997.000000       673.00000   \n",
       "std     23251.617578   4.73933          6.284903        14.40486   \n",
       "min     41810.000000  17.25000       1988.000000       660.00000   \n",
       "25%     45000.000000  19.41000       1995.000000       665.00000   \n",
       "50%     65000.000000  22.22000       1996.000000       665.00000   \n",
       "75%     67500.000000  25.24000       2003.000000       680.00000   \n",
       "max    100000.000000  29.23000       2003.000000       695.00000   \n",
       "\n",
       "       fico_range_high  inq_last_6mths  open_acc   pub_rec     revol_bal  \\\n",
       "count          5.00000         5.00000   5.00000  5.000000      5.000000   \n",
       "mean         677.00000         0.80000  15.20000  0.200000  18752.600000   \n",
       "std           14.40486         1.30384   7.79102  0.447214  15144.788024   \n",
       "min          664.00000         0.00000   6.00000  0.000000   7459.000000   \n",
       "25%          669.00000         0.00000   9.00000  0.000000   9269.000000   \n",
       "50%          669.00000         0.00000  16.00000  0.000000  10723.000000   \n",
       "75%          684.00000         1.00000  20.00000  0.000000  22654.000000   \n",
       "max          699.00000         3.00000  25.00000  1.000000  43658.000000   \n",
       "\n",
       "       revol_util  total_acc   recoveries    tot_cur_bal    bc_util  mort_acc  \\\n",
       "count    5.000000   5.000000     5.000000       5.000000   5.000000  5.000000   \n",
       "mean    57.420000  38.200000   459.722000  193589.800000  65.040000  1.600000   \n",
       "std     22.605464  12.969194  1027.969643   84796.686505  30.908704  0.894427   \n",
       "min     25.300000  22.000000     0.000000   62916.000000  27.200000  0.000000   \n",
       "25%     56.300000  28.000000     0.000000  173292.000000  39.400000  2.000000   \n",
       "50%     58.000000  43.000000     0.000000  197096.000000  71.000000  2.000000   \n",
       "75%     58.300000  44.000000     0.000000  253377.000000  89.200000  2.000000   \n",
       "max     89.200000  54.000000  2298.610000  281268.000000  98.400000  2.000000   \n",
       "\n",
       "       pub_rec_bankruptcies  tax_liens  \n",
       "count              5.000000        5.0  \n",
       "mean               0.200000        0.0  \n",
       "std                0.447214        0.0  \n",
       "min                0.000000        0.0  \n",
       "25%                0.000000        0.0  \n",
       "50%                0.000000        0.0  \n",
       "75%                0.000000        0.0  \n",
       "max                1.000000        0.0  "
      ]
     },
     "execution_count": 54,
     "metadata": {},
     "output_type": "execute_result"
    }
   ],
   "source": [
    "# Creating a working variable for continuous variables (numerical)\n",
    "\n",
    "continous = Working_DF.select_dtypes('number').head()\n",
    "continous.describe()"
   ]
  },
  {
   "cell_type": "code",
   "execution_count": 55,
   "metadata": {
    "scrolled": true
   },
   "outputs": [
    {
     "name": "stdout",
     "output_type": "stream",
     "text": [
      "<class 'pandas.core.frame.DataFrame'>\n",
      "RangeIndex: 5 entries, 0 to 4\n",
      "Data columns (total 22 columns):\n",
      " #   Column                Non-Null Count  Dtype  \n",
      "---  ------                --------------  -----  \n",
      " 0   id                    5 non-null      int64  \n",
      " 1   loan_amnt             5 non-null      float64\n",
      " 2   int_rate              5 non-null      float64\n",
      " 3   installment           5 non-null      float64\n",
      " 4   emp_length            5 non-null      int64  \n",
      " 5   annual_inc            5 non-null      float64\n",
      " 6   dti                   5 non-null      float64\n",
      " 7   earliest_cr_line      5 non-null      int64  \n",
      " 8   fico_range_low        5 non-null      float64\n",
      " 9   fico_range_high       5 non-null      float64\n",
      " 10  inq_last_6mths        5 non-null      float64\n",
      " 11  open_acc              5 non-null      float64\n",
      " 12  pub_rec               5 non-null      float64\n",
      " 13  revol_bal             5 non-null      float64\n",
      " 14  revol_util            5 non-null      float64\n",
      " 15  total_acc             5 non-null      float64\n",
      " 16  recoveries            5 non-null      float64\n",
      " 17  tot_cur_bal           5 non-null      float64\n",
      " 18  bc_util               5 non-null      float64\n",
      " 19  mort_acc              5 non-null      float64\n",
      " 20  pub_rec_bankruptcies  5 non-null      float64\n",
      " 21  tax_liens             5 non-null      float64\n",
      "dtypes: float64(19), int64(3)\n",
      "memory usage: 1008.0 bytes\n"
     ]
    }
   ],
   "source": [
    "# checking all continuous variables\n",
    "\n",
    "continous.info()"
   ]
  },
  {
   "cell_type": "code",
   "execution_count": 56,
   "metadata": {
    "scrolled": false
   },
   "outputs": [
    {
     "data": {
      "text/plain": [
       "array([[<AxesSubplot:title={'center':'id'}>,\n",
       "        <AxesSubplot:title={'center':'loan_amnt'}>,\n",
       "        <AxesSubplot:title={'center':'int_rate'}>],\n",
       "       [<AxesSubplot:title={'center':'installment'}>,\n",
       "        <AxesSubplot:title={'center':'emp_length'}>,\n",
       "        <AxesSubplot:title={'center':'annual_inc'}>],\n",
       "       [<AxesSubplot:title={'center':'dti'}>,\n",
       "        <AxesSubplot:title={'center':'earliest_cr_line'}>,\n",
       "        <AxesSubplot:title={'center':'fico_range_low'}>],\n",
       "       [<AxesSubplot:title={'center':'fico_range_high'}>,\n",
       "        <AxesSubplot:title={'center':'inq_last_6mths'}>,\n",
       "        <AxesSubplot:title={'center':'open_acc'}>],\n",
       "       [<AxesSubplot:title={'center':'pub_rec'}>,\n",
       "        <AxesSubplot:title={'center':'revol_bal'}>,\n",
       "        <AxesSubplot:title={'center':'revol_util'}>],\n",
       "       [<AxesSubplot:title={'center':'total_acc'}>,\n",
       "        <AxesSubplot:title={'center':'recoveries'}>,\n",
       "        <AxesSubplot:title={'center':'tot_cur_bal'}>],\n",
       "       [<AxesSubplot:title={'center':'bc_util'}>,\n",
       "        <AxesSubplot:title={'center':'mort_acc'}>,\n",
       "        <AxesSubplot:title={'center':'pub_rec_bankruptcies'}>],\n",
       "       [<AxesSubplot:title={'center':'tax_liens'}>, <AxesSubplot:>,\n",
       "        <AxesSubplot:>],\n",
       "       [<AxesSubplot:>, <AxesSubplot:>, <AxesSubplot:>]], dtype=object)"
      ]
     },
     "execution_count": 56,
     "metadata": {},
     "output_type": "execute_result"
    },
    {
     "data": {
      "image/png": "[encoded data removed]",
      "text/plain": [
       "<Figure size 1080x2160 with 27 Axes>"
      ]
     },
     "metadata": {
      "needs_background": "light"
     },
     "output_type": "display_data"
    }
   ],
   "source": [
    "## Displaying historgram for all numerical columns in the asset (dataset)\n",
    "\n",
    "Working_DF.hist(figsize=(15,30),layout=(9,3))\n"
   ]
  },
  {
   "cell_type": "markdown",
   "metadata": {},
   "source": [
    "Plan of action for continous variables pre-analysis and cleansing:\n",
    "\n",
    "* Based on the above display of all numerical variables within our asset, some will will require log transformation.\n",
    "* Using domain knowledge we will explore and transform some continous variables\n",
    "* Lastly, we will also consider which continous variables will be important to keep\n"
   ]
  },
  {
   "cell_type": "markdown",
   "metadata": {},
   "source": [
    "#### Helper function for continous variables"
   ]
  },
  {
   "cell_type": "code",
   "execution_count": 57,
   "metadata": {},
   "outputs": [],
   "source": [
    "# Creating a function to call for quick visualization of continous features within the asset\n",
    "\n",
    "\n",
    "def num_count(col_name, full_name):\n",
    "    \"\"\"\n",
    "    This function will help to plot a bar countplot for continous variables.\n",
    "    - col_name: variable name within our asset.\n",
    "    - full_name: the variable name that one would use for the title\n",
    "    \"\"\"\n",
    "    # Visualize \n",
    "    plt.figure(figsize=(10,5))\n",
    "    sns.distplot(Working_DF.loc[Working_DF[col_name].notnull(), col_name], kde=False).set_title('Distribution of ' + full_name)\n",
    "    plt.xticks(rotation=90, horizontalalignment='center')\n",
    "    plt.show()\n",
    "    \n",
    "    #box plot\n",
    "    plt.figure(figsize=(10,5))\n",
    "    plt.ylabel(full_name)\n",
    "    sns.boxplot(x=Working_DF[col_name])\n",
    "    plt.show()\n",
    "    \n",
    "    # Descriptive stats\n",
    "    print(Working_DF[col_name].describe())"
   ]
  },
  {
   "cell_type": "markdown",
   "metadata": {},
   "source": [
    "### ID"
   ]
  },
  {
   "cell_type": "markdown",
   "metadata": {},
   "source": [
    "ID is the assigned ID for the loan listing.\n",
    "\n",
    "This is not of key importance so we shall remove it from our features within our asset."
   ]
  },
  {
   "cell_type": "code",
   "execution_count": 58,
   "metadata": {},
   "outputs": [],
   "source": [
    "# Removing id from features within the asset\n",
    "\n",
    "Working_DF.drop('id', axis=1, inplace=True)"
   ]
  },
  {
   "cell_type": "code",
   "execution_count": 59,
   "metadata": {
    "scrolled": true
   },
   "outputs": [
    {
     "data": {
      "text/plain": [
       "Index(['loan_amnt', 'term', 'int_rate', 'installment', 'grade', 'sub_grade',\n",
       "       'emp_length', 'home_ownership', 'annual_inc', 'verification_status',\n",
       "       'issue_d', 'loan_status', 'purpose', 'addr_state', 'dti',\n",
       "       'earliest_cr_line', 'fico_range_low', 'fico_range_high',\n",
       "       'inq_last_6mths', 'open_acc', 'pub_rec', 'revol_bal', 'revol_util',\n",
       "       'total_acc', 'initial_list_status', 'recoveries', 'application_type',\n",
       "       'tot_cur_bal', 'bc_util', 'mort_acc', 'pub_rec_bankruptcies',\n",
       "       'tax_liens'],\n",
       "      dtype='object')"
      ]
     },
     "execution_count": 59,
     "metadata": {},
     "output_type": "execute_result"
    }
   ],
   "source": [
    "# sanity check\n",
    "\n",
    "Working_DF.columns"
   ]
  },
  {
   "cell_type": "code",
   "execution_count": 60,
   "metadata": {},
   "outputs": [
    {
     "data": {
      "text/plain": [
       "(246269, 32)"
      ]
     },
     "execution_count": 60,
     "metadata": {},
     "output_type": "execute_result"
    }
   ],
   "source": [
    "#checking the shape\n",
    "\n",
    "Working_DF.shape"
   ]
  },
  {
   "cell_type": "markdown",
   "metadata": {},
   "source": [
    "### Loan Amount"
   ]
  },
  {
   "cell_type": "markdown",
   "metadata": {},
   "source": [
    "Loan amount is defined as: The listed amount of the loan applied for by the borrower. If at some point in time, the credit department reduces the loan amount, then it will be reflected in this value.\n",
    "\n",
    "* This shows use the distribution of loan amount amoung our current data asset"
   ]
  },
  {
   "cell_type": "code",
   "execution_count": 61,
   "metadata": {
    "scrolled": false
   },
   "outputs": [
    {
     "name": "stderr",
     "output_type": "stream",
     "text": [
      "/Users/B_A_S_i_C/opt/anaconda3/lib/python3.8/site-packages/seaborn/distributions.py:2557: FutureWarning: `distplot` is a deprecated function and will be removed in a future version. Please adapt your code to use either `displot` (a figure-level function with similar flexibility) or `histplot` (an axes-level function for histograms).\n",
      "  warnings.warn(msg, FutureWarning)\n"
     ]
    },
    {
     "data": {
      "image/png": "[encoded data removed]",
      "text/plain": [
       "<Figure size 720x360 with 1 Axes>"
      ]
     },
     "metadata": {
      "needs_background": "light"
     },
     "output_type": "display_data"
    },
    {
     "data": {
      "image/png": "[encoded data removed]",
      "text/plain": [
       "<Figure size 720x360 with 1 Axes>"
      ]
     },
     "metadata": {
      "needs_background": "light"
     },
     "output_type": "display_data"
    },
    {
     "name": "stdout",
     "output_type": "stream",
     "text": [
      "count    246269.000000\n",
      "mean      14843.904734\n",
      "std        8792.352950\n",
      "min        1000.000000\n",
      "25%        8000.000000\n",
      "50%       12800.000000\n",
      "75%       20000.000000\n",
      "max       40000.000000\n",
      "Name: loan_amnt, dtype: float64\n"
     ]
    }
   ],
   "source": [
    "# Visual of distribution and dicriptive stats\n",
    "\n",
    "num_count('loan_amnt', \"Loan Amount\")"
   ]
  },
  {
   "cell_type": "markdown",
   "metadata": {},
   "source": [
    "Key Points:\n",
    "\n",
    "* Loan amount, minimun is 1000 and max is 40k.\n",
    "\n",
    "* Also we can see between 10k-23k is the range that most borrowers need a loan amount.\n",
    "\n",
    "* In consideration from our earlier analysis of categorical features we can infer that this could again fall into the purposes of debt consolidation and credit card\n"
   ]
  },
  {
   "cell_type": "markdown",
   "metadata": {},
   "source": [
    "### Interest Rate"
   ]
  },
  {
   "cell_type": "markdown",
   "metadata": {},
   "source": [
    "The interest rate is given based one the loan. \n",
    "\n",
    "* This is also determined by FICO score history, credit worthiness, and other factors that are calaculated based on the borrowers risk profile."
   ]
  },
  {
   "cell_type": "code",
   "execution_count": 62,
   "metadata": {},
   "outputs": [
    {
     "name": "stderr",
     "output_type": "stream",
     "text": [
      "/Users/B_A_S_i_C/opt/anaconda3/lib/python3.8/site-packages/seaborn/distributions.py:2557: FutureWarning: `distplot` is a deprecated function and will be removed in a future version. Please adapt your code to use either `displot` (a figure-level function with similar flexibility) or `histplot` (an axes-level function for histograms).\n",
      "  warnings.warn(msg, FutureWarning)\n"
     ]
    },
    {
     "data": {
      "image/png": "[encoded data removed]",
      "text/plain": [
       "<Figure size 720x360 with 1 Axes>"
      ]
     },
     "metadata": {
      "needs_background": "light"
     },
     "output_type": "display_data"
    },
    {
     "data": {
      "image/png": "[encoded data removed]",
      "text/plain": [
       "<Figure size 720x360 with 1 Axes>"
      ]
     },
     "metadata": {
      "needs_background": "light"
     },
     "output_type": "display_data"
    },
    {
     "name": "stdout",
     "output_type": "stream",
     "text": [
      "count    246269.000000\n",
      "mean         13.388010\n",
      "std           4.820638\n",
      "min           5.310000\n",
      "25%           9.920000\n",
      "50%          12.990000\n",
      "75%          16.200000\n",
      "max          30.990000\n",
      "Name: int_rate, dtype: float64\n"
     ]
    }
   ],
   "source": [
    "# Visual of distribution and dicriptive stats\n",
    "\n",
    "num_count('int_rate', \"Loan Amount\")"
   ]
  },
  {
   "cell_type": "markdown",
   "metadata": {},
   "source": [
    "Key points:\n",
    "\n",
    "* Borrowers fall within the 10-16 intereste rate for the loan.\n",
    "* We do have some that excede the typical 24/25 range however, these outliers could have been considered on other factors.\n"
   ]
  },
  {
   "cell_type": "markdown",
   "metadata": {},
   "source": [
    "### Installment"
   ]
  },
  {
   "cell_type": "markdown",
   "metadata": {},
   "source": [
    "Installment(s): The monthly payment owed by the borrower if the loan originates.\n",
    "\n",
    "* One conisderation is that this may not be initally helpful as this is a bit unclear if this is a pre-application or post-loan approval feature.\n",
    "\n",
    "We will explore and come to decision based on the analysis below."
   ]
  },
  {
   "cell_type": "code",
   "execution_count": 63,
   "metadata": {},
   "outputs": [
    {
     "name": "stderr",
     "output_type": "stream",
     "text": [
      "/Users/B_A_S_i_C/opt/anaconda3/lib/python3.8/site-packages/seaborn/distributions.py:2557: FutureWarning: `distplot` is a deprecated function and will be removed in a future version. Please adapt your code to use either `displot` (a figure-level function with similar flexibility) or `histplot` (an axes-level function for histograms).\n",
      "  warnings.warn(msg, FutureWarning)\n"
     ]
    },
    {
     "data": {
      "image/png": "[encoded data removed]",
      "text/plain": [
       "<Figure size 720x360 with 1 Axes>"
      ]
     },
     "metadata": {
      "needs_background": "light"
     },
     "output_type": "display_data"
    },
    {
     "data": {
      "image/png": "[encoded data removed]",
      "text/plain": [
       "<Figure size 720x360 with 1 Axes>"
      ]
     },
     "metadata": {
      "needs_background": "light"
     },
     "output_type": "display_data"
    },
    {
     "name": "stdout",
     "output_type": "stream",
     "text": [
      "count    246269.000000\n",
      "mean        450.067854\n",
      "std         263.773444\n",
      "min          14.010000\n",
      "25%         258.450000\n",
      "50%         385.800000\n",
      "75%         597.060000\n",
      "max        1719.830000\n",
      "Name: installment, dtype: float64\n"
     ]
    }
   ],
   "source": [
    "# Visual of distribution and dicriptive stats\n",
    "\n",
    "num_count('installment', \"Installment(s)\")"
   ]
  },
  {
   "cell_type": "markdown",
   "metadata": {},
   "source": [
    "Key Point:\n",
    "\n",
    "* This seems to be installments based on the term per further inspection and domain knowledge.\n",
    "\n",
    "Consideration(s):\n",
    "\n",
    "* We will keep this for now to see the relationship to our response variable."
   ]
  },
  {
   "cell_type": "markdown",
   "metadata": {},
   "source": [
    "### Anaual Income"
   ]
  },
  {
   "cell_type": "code",
   "execution_count": 64,
   "metadata": {},
   "outputs": [
    {
     "name": "stderr",
     "output_type": "stream",
     "text": [
      "/Users/B_A_S_i_C/opt/anaconda3/lib/python3.8/site-packages/seaborn/distributions.py:2557: FutureWarning: `distplot` is a deprecated function and will be removed in a future version. Please adapt your code to use either `displot` (a figure-level function with similar flexibility) or `histplot` (an axes-level function for histograms).\n",
      "  warnings.warn(msg, FutureWarning)\n"
     ]
    },
    {
     "data": {
      "image/png": "[encoded data removed]",
      "text/plain": [
       "<Figure size 720x360 with 1 Axes>"
      ]
     },
     "metadata": {
      "needs_background": "light"
     },
     "output_type": "display_data"
    },
    {
     "data": {
      "image/png": "[encoded data removed]",
      "text/plain": [
       "<Figure size 720x360 with 1 Axes>"
      ]
     },
     "metadata": {
      "needs_background": "light"
     },
     "output_type": "display_data"
    },
    {
     "name": "stdout",
     "output_type": "stream",
     "text": [
      "count    2.462690e+05\n",
      "mean     7.952875e+04\n",
      "std      7.269803e+04\n",
      "min      2.400000e+03\n",
      "25%      4.975000e+04\n",
      "50%      6.800000e+04\n",
      "75%      9.500000e+04\n",
      "max      8.706582e+06\n",
      "Name: annual_inc, dtype: float64\n"
     ]
    }
   ],
   "source": [
    "# Visual of distribution and dicriptive stats\n",
    "\n",
    "num_count('annual_inc', \"Annual Income\")"
   ]
  },
  {
   "cell_type": "markdown",
   "metadata": {},
   "source": [
    "* Based on the figures above we will apply some log transformation to see the and this will be a new feature we will include in our asset"
   ]
  },
  {
   "cell_type": "markdown",
   "metadata": {},
   "source": [
    "#### Log transformation and Feature Engineering for Anual Income"
   ]
  },
  {
   "cell_type": "code",
   "execution_count": 65,
   "metadata": {},
   "outputs": [],
   "source": [
    "# Adding new feature called 'anual_inc_log'\n",
    "\n",
    "Working_DF['annual_inc_log'] = Working_DF['annual_inc'].apply(np.log)"
   ]
  },
  {
   "cell_type": "markdown",
   "metadata": {},
   "source": [
    "#### Anaual Income Log analysis"
   ]
  },
  {
   "cell_type": "code",
   "execution_count": 66,
   "metadata": {},
   "outputs": [
    {
     "name": "stderr",
     "output_type": "stream",
     "text": [
      "/Users/B_A_S_i_C/opt/anaconda3/lib/python3.8/site-packages/seaborn/distributions.py:2557: FutureWarning: `distplot` is a deprecated function and will be removed in a future version. Please adapt your code to use either `displot` (a figure-level function with similar flexibility) or `histplot` (an axes-level function for histograms).\n",
      "  warnings.warn(msg, FutureWarning)\n"
     ]
    },
    {
     "data": {
      "image/png": "[encoded data removed]",
      "text/plain": [
       "<Figure size 720x360 with 1 Axes>"
      ]
     },
     "metadata": {
      "needs_background": "light"
     },
     "output_type": "display_data"
    },
    {
     "data": {
      "image/png": "[encoded data removed]",
      "text/plain": [
       "<Figure size 720x360 with 1 Axes>"
      ]
     },
     "metadata": {
      "needs_background": "light"
     },
     "output_type": "display_data"
    },
    {
     "name": "stdout",
     "output_type": "stream",
     "text": [
      "count    246269.000000\n",
      "mean         11.136883\n",
      "std           0.514487\n",
      "min           7.783224\n",
      "25%          10.814766\n",
      "50%          11.127263\n",
      "75%          11.461632\n",
      "max          15.979590\n",
      "Name: annual_inc_log, dtype: float64\n"
     ]
    }
   ],
   "source": [
    "num_count('annual_inc_log', \"Annual Income (Log)\")"
   ]
  },
  {
   "cell_type": "markdown",
   "metadata": {},
   "source": [
    "Key Point:\n",
    "\n",
    "* Median anual income is around 63k\n",
    "\n",
    "* We created a log feature for anual income "
   ]
  },
  {
   "cell_type": "markdown",
   "metadata": {},
   "source": [
    "### Debt-to- Income Ratio"
   ]
  },
  {
   "cell_type": "markdown",
   "metadata": {},
   "source": [
    "Debt-to-income ration is, a ratio calculated using the borrower’s total monthly debt payments on the total debt obligations, excluding mortgage and the requested LC loan, divided by the borrower’s self-reported monthly income.\n",
    "\n",
    "* Domain knowledge dti, should be smaller than 36%, with no more than 28% of that debt going towards servicing your mortgage. "
   ]
  },
  {
   "cell_type": "code",
   "execution_count": 67,
   "metadata": {},
   "outputs": [
    {
     "data": {
      "text/plain": [
       "count    246269.000000\n",
       "mean         18.656221\n",
       "std           9.242997\n",
       "min          -1.000000\n",
       "25%          12.370000\n",
       "50%          18.070000\n",
       "75%          24.430000\n",
       "max         999.000000\n",
       "Name: dti, dtype: float64"
      ]
     },
     "execution_count": 67,
     "metadata": {},
     "output_type": "execute_result"
    }
   ],
   "source": [
    "# checking stats\n",
    "Working_DF.dti.describe()"
   ]
  },
  {
   "cell_type": "markdown",
   "metadata": {},
   "source": [
    "Ket Points:\n",
    "\n",
    "* We see some extreme values like -1 and 999\n",
    "\n",
    "Consideration:\n",
    "\n",
    "* Taking into account some domain knowledge we will create a historgram this time with a ratio less than 60"
   ]
  },
  {
   "cell_type": "code",
   "execution_count": 68,
   "metadata": {},
   "outputs": [
    {
     "name": "stderr",
     "output_type": "stream",
     "text": [
      "/Users/B_A_S_i_C/opt/anaconda3/lib/python3.8/site-packages/seaborn/distributions.py:2557: FutureWarning: `distplot` is a deprecated function and will be removed in a future version. Please adapt your code to use either `displot` (a figure-level function with similar flexibility) or `histplot` (an axes-level function for histograms).\n",
      "  warnings.warn(msg, FutureWarning)\n"
     ]
    },
    {
     "data": {
      "text/plain": [
       "Text(0.5, 1.0, 'Debt-to-income Ratio')"
      ]
     },
     "execution_count": 68,
     "metadata": {},
     "output_type": "execute_result"
    },
    {
     "data": {
      "image/png": "[encoded data removed]",
      "text/plain": [
       "<Figure size 720x360 with 1 Axes>"
      ]
     },
     "metadata": {
      "needs_background": "light"
     },
     "output_type": "display_data"
    }
   ],
   "source": [
    "# creating historgram\n",
    "\n",
    "plt.figure(figsize=(10,5))\n",
    "sns.distplot(Working_DF.loc[Working_DF['dti']<60, 'dti'], kde=False)\n",
    "plt.xlabel('Debt-to-income Ratio')\n",
    "plt.ylabel('Count')\n",
    "plt.title('Debt-to-income Ratio')"
   ]
  },
  {
   "cell_type": "markdown",
   "metadata": {},
   "source": [
    "Key takeaway we see in dti it falled between over 10-roughly 28, with a few outlers over 40 dti."
   ]
  },
  {
   "cell_type": "markdown",
   "metadata": {},
   "source": [
    "### FICO Score (High and Low Range)"
   ]
  },
  {
   "cell_type": "markdown",
   "metadata": {},
   "source": [
    "The FICO score is a very huge factor in any type of application of financial lending products be it--student loans, private loans, mortagages, and credit cards.\n",
    "\n",
    "* fico_range_low: The lower boundary range the borrower’s FICO at loan origination belongs to.\n",
    "* fico_range_high: The upper boundary range the borrower’s FICO at loan origination belongs to.\n",
    "\n",
    "A pre-analysis assumption would be that this will be aggregated into one new feature called fico_agg"
   ]
  },
  {
   "cell_type": "code",
   "execution_count": 69,
   "metadata": {},
   "outputs": [
    {
     "data": {
      "image/png": "[encoded data removed]",
      "text/plain": [
       "<Figure size 720x360 with 1 Axes>"
      ]
     },
     "metadata": {
      "needs_background": "light"
     },
     "output_type": "display_data"
    },
    {
     "data": {
      "image/png": "[encoded data removed]",
      "text/plain": [
       "<Figure size 720x360 with 1 Axes>"
      ]
     },
     "metadata": {
      "needs_background": "light"
     },
     "output_type": "display_data"
    },
    {
     "name": "stdout",
     "output_type": "stream",
     "text": [
      "count    246269.000000\n",
      "mean        695.060462\n",
      "std          31.010929\n",
      "min         660.000000\n",
      "25%         670.000000\n",
      "50%         690.000000\n",
      "75%         710.000000\n",
      "max         845.000000\n",
      "Name: fico_range_low, dtype: float64\n"
     ]
    }
   ],
   "source": [
    "# Visual of distribution and dicriptive stats\n",
    "\n",
    "num_count('fico_range_low', \"FICO Score (Low)\")"
   ]
  },
  {
   "cell_type": "code",
   "execution_count": 70,
   "metadata": {
    "scrolled": true
   },
   "outputs": [
    {
     "name": "stderr",
     "output_type": "stream",
     "text": [
      "/Users/B_A_S_i_C/opt/anaconda3/lib/python3.8/site-packages/seaborn/distributions.py:2557: FutureWarning: `distplot` is a deprecated function and will be removed in a future version. Please adapt your code to use either `displot` (a figure-level function with similar flexibility) or `histplot` (an axes-level function for histograms).\n",
      "  warnings.warn(msg, FutureWarning)\n"
     ]
    },
    {
     "data": {
      "image/png": "[encoded data removed]",
      "text/plain": [
       "<Figure size 720x360 with 1 Axes>"
      ]
     },
     "metadata": {
      "needs_background": "light"
     },
     "output_type": "display_data"
    },
    {
     "data": {
      "image/png": "[encoded data removed]",
      "text/plain": [
       "<Figure size 720x360 with 1 Axes>"
      ]
     },
     "metadata": {
      "needs_background": "light"
     },
     "output_type": "display_data"
    },
    {
     "name": "stdout",
     "output_type": "stream",
     "text": [
      "count    246269.000000\n",
      "mean        699.060564\n",
      "std          31.011422\n",
      "min         664.000000\n",
      "25%         674.000000\n",
      "50%         694.000000\n",
      "75%         714.000000\n",
      "max         850.000000\n",
      "Name: fico_range_high, dtype: float64\n"
     ]
    }
   ],
   "source": [
    "# Visual of distribution and dicriptive stats\n",
    "\n",
    "num_count('fico_range_high', \"FICO Score (High)\")"
   ]
  },
  {
   "cell_type": "code",
   "execution_count": 71,
   "metadata": {},
   "outputs": [
    {
     "data": {
      "text/html": [
       "<div>\n",
       "<style scoped>\n",
       "    .dataframe tbody tr th:only-of-type {\n",
       "        vertical-align: middle;\n",
       "    }\n",
       "\n",
       "    .dataframe tbody tr th {\n",
       "        vertical-align: top;\n",
       "    }\n",
       "\n",
       "    .dataframe thead th {\n",
       "        text-align: right;\n",
       "    }\n",
       "</style>\n",
       "<table border=\"1\" class=\"dataframe\">\n",
       "  <thead>\n",
       "    <tr style=\"text-align: right;\">\n",
       "      <th></th>\n",
       "      <th>fico_range_low</th>\n",
       "      <th>fico_range_high</th>\n",
       "    </tr>\n",
       "  </thead>\n",
       "  <tbody>\n",
       "    <tr>\n",
       "      <th>fico_range_low</th>\n",
       "      <td>1.0</td>\n",
       "      <td>1.0</td>\n",
       "    </tr>\n",
       "    <tr>\n",
       "      <th>fico_range_high</th>\n",
       "      <td>1.0</td>\n",
       "      <td>1.0</td>\n",
       "    </tr>\n",
       "  </tbody>\n",
       "</table>\n",
       "</div>"
      ],
      "text/plain": [
       "                 fico_range_low  fico_range_high\n",
       "fico_range_low              1.0              1.0\n",
       "fico_range_high             1.0              1.0"
      ]
     },
     "execution_count": 71,
     "metadata": {},
     "output_type": "execute_result"
    }
   ],
   "source": [
    "### Checking correlation\n",
    "\n",
    "Working_DF[['fico_range_low','fico_range_high']].corr()"
   ]
  },
  {
   "cell_type": "markdown",
   "metadata": {},
   "source": [
    "Consideration(s):\n",
    "\n",
    "* Both Fico features can be aggreated into one score \n",
    "\n",
    "* Both are also highly correlated "
   ]
  },
  {
   "cell_type": "markdown",
   "metadata": {},
   "source": [
    "#### Clensing and Feature Engineering FICO Score(s)"
   ]
  },
  {
   "cell_type": "code",
   "execution_count": 72,
   "metadata": {},
   "outputs": [],
   "source": [
    "# aggregating FICO features\n",
    "\n",
    "Working_DF['fico_score'] = 0.5 * Working_DF['fico_range_low'] + 0.5 * Working_DF['fico_range_high']"
   ]
  },
  {
   "cell_type": "code",
   "execution_count": 73,
   "metadata": {},
   "outputs": [],
   "source": [
    "# Removing the two original FICO features\n",
    "\n",
    "Working_DF.drop(['fico_range_high', 'fico_range_low'], axis=1, inplace=True)"
   ]
  },
  {
   "cell_type": "code",
   "execution_count": 74,
   "metadata": {},
   "outputs": [
    {
     "data": {
      "text/plain": [
       "Index(['loan_amnt', 'term', 'int_rate', 'installment', 'grade', 'sub_grade',\n",
       "       'emp_length', 'home_ownership', 'annual_inc', 'verification_status',\n",
       "       'issue_d', 'loan_status', 'purpose', 'addr_state', 'dti',\n",
       "       'earliest_cr_line', 'inq_last_6mths', 'open_acc', 'pub_rec',\n",
       "       'revol_bal', 'revol_util', 'total_acc', 'initial_list_status',\n",
       "       'recoveries', 'application_type', 'tot_cur_bal', 'bc_util', 'mort_acc',\n",
       "       'pub_rec_bankruptcies', 'tax_liens', 'annual_inc_log', 'fico_score'],\n",
       "      dtype='object')"
      ]
     },
     "execution_count": 74,
     "metadata": {},
     "output_type": "execute_result"
    }
   ],
   "source": [
    "# Sanity check\n",
    "Working_DF.columns"
   ]
  },
  {
   "cell_type": "code",
   "execution_count": 75,
   "metadata": {},
   "outputs": [
    {
     "data": {
      "text/plain": [
       "(246269, 32)"
      ]
     },
     "execution_count": 75,
     "metadata": {},
     "output_type": "execute_result"
    }
   ],
   "source": [
    "# Checking shape\n",
    "Working_DF.shape"
   ]
  },
  {
   "cell_type": "markdown",
   "metadata": {},
   "source": [
    "### Inquiries (within last six months)"
   ]
  },
  {
   "cell_type": "markdown",
   "metadata": {},
   "source": [
    "This section will look into inquires within the last six months.\n",
    "\n",
    "* inq_last_6mths: The number of inquiries in past 6 months (excluding auto and mortgage inquiries)"
   ]
  },
  {
   "cell_type": "code",
   "execution_count": 76,
   "metadata": {},
   "outputs": [
    {
     "name": "stderr",
     "output_type": "stream",
     "text": [
      "/Users/B_A_S_i_C/opt/anaconda3/lib/python3.8/site-packages/seaborn/distributions.py:2557: FutureWarning: `distplot` is a deprecated function and will be removed in a future version. Please adapt your code to use either `displot` (a figure-level function with similar flexibility) or `histplot` (an axes-level function for histograms).\n",
      "  warnings.warn(msg, FutureWarning)\n"
     ]
    },
    {
     "data": {
      "image/png": "[encoded data removed]",
      "text/plain": [
       "<Figure size 720x360 with 1 Axes>"
      ]
     },
     "metadata": {
      "needs_background": "light"
     },
     "output_type": "display_data"
    },
    {
     "data": {
      "image/png": "[encoded data removed]",
      "text/plain": [
       "<Figure size 720x360 with 1 Axes>"
      ]
     },
     "metadata": {
      "needs_background": "light"
     },
     "output_type": "display_data"
    },
    {
     "name": "stdout",
     "output_type": "stream",
     "text": [
      "count    246269.000000\n",
      "mean          0.689693\n",
      "std           0.927710\n",
      "min           0.000000\n",
      "25%           0.000000\n",
      "50%           0.000000\n",
      "75%           1.000000\n",
      "max           7.000000\n",
      "Name: inq_last_6mths, dtype: float64\n"
     ]
    }
   ],
   "source": [
    "# Visual of distribution and dicriptive stats\n",
    "\n",
    "num_count('inq_last_6mths', \"Inquiries in the Last Six Months \")"
   ]
  },
  {
   "cell_type": "markdown",
   "metadata": {},
   "source": [
    "Key Points:\n",
    "\n",
    "* looking into the data above, inquires do play a role in the application process. Especially,if they were considered a lot based on the risk profile of the lender. \n",
    "\n",
    "Consideration(s):\n",
    "\n",
    "* However, just like inq_last_12mnths, this may not be useful and we will drop this fround our variable list within the asset"
   ]
  },
  {
   "cell_type": "markdown",
   "metadata": {},
   "source": [
    "#### Clensing Inquiries from our variable features"
   ]
  },
  {
   "cell_type": "code",
   "execution_count": 77,
   "metadata": {},
   "outputs": [],
   "source": [
    "# removing from the asset\n",
    "\n",
    "Working_DF.drop(['inq_last_6mths'], axis=1, inplace=True)"
   ]
  },
  {
   "cell_type": "code",
   "execution_count": 78,
   "metadata": {},
   "outputs": [
    {
     "data": {
      "text/plain": [
       "Index(['loan_amnt', 'term', 'int_rate', 'installment', 'grade', 'sub_grade',\n",
       "       'emp_length', 'home_ownership', 'annual_inc', 'verification_status',\n",
       "       'issue_d', 'loan_status', 'purpose', 'addr_state', 'dti',\n",
       "       'earliest_cr_line', 'open_acc', 'pub_rec', 'revol_bal', 'revol_util',\n",
       "       'total_acc', 'initial_list_status', 'recoveries', 'application_type',\n",
       "       'tot_cur_bal', 'bc_util', 'mort_acc', 'pub_rec_bankruptcies',\n",
       "       'tax_liens', 'annual_inc_log', 'fico_score'],\n",
       "      dtype='object')"
      ]
     },
     "execution_count": 78,
     "metadata": {},
     "output_type": "execute_result"
    }
   ],
   "source": [
    "# Sanity check\n",
    "\n",
    "Working_DF.columns"
   ]
  },
  {
   "cell_type": "code",
   "execution_count": 79,
   "metadata": {},
   "outputs": [
    {
     "data": {
      "text/plain": [
       "(246269, 31)"
      ]
     },
     "execution_count": 79,
     "metadata": {},
     "output_type": "execute_result"
    }
   ],
   "source": [
    "# checking shape\n",
    "\n",
    "Working_DF.shape"
   ]
  },
  {
   "cell_type": "markdown",
   "metadata": {},
   "source": [
    "### Open Accounts"
   ]
  },
  {
   "cell_type": "markdown",
   "metadata": {},
   "source": [
    "Open accounts are the number of credit lines.\n",
    "\n",
    "* open_acc: The number of open credit lines in the borrower's credit file.\n",
    "\n",
    "This is another important feature based on domain knowledge, as this shows the number of open credit lines a borrower has. Also, this also shows potenital credit worthiness--in respect to credit lenders (credit cards)"
   ]
  },
  {
   "cell_type": "code",
   "execution_count": 80,
   "metadata": {},
   "outputs": [
    {
     "name": "stderr",
     "output_type": "stream",
     "text": [
      "/Users/B_A_S_i_C/opt/anaconda3/lib/python3.8/site-packages/seaborn/distributions.py:2557: FutureWarning: `distplot` is a deprecated function and will be removed in a future version. Please adapt your code to use either `displot` (a figure-level function with similar flexibility) or `histplot` (an axes-level function for histograms).\n",
      "  warnings.warn(msg, FutureWarning)\n"
     ]
    },
    {
     "data": {
      "image/png": "[encoded data removed]",
      "text/plain": [
       "<Figure size 720x360 with 1 Axes>"
      ]
     },
     "metadata": {
      "needs_background": "light"
     },
     "output_type": "display_data"
    },
    {
     "data": {
      "image/png": "[encoded data removed]",
      "text/plain": [
       "<Figure size 720x360 with 1 Axes>"
      ]
     },
     "metadata": {
      "needs_background": "light"
     },
     "output_type": "display_data"
    },
    {
     "name": "stdout",
     "output_type": "stream",
     "text": [
      "count    246269.000000\n",
      "mean         12.162428\n",
      "std           5.549445\n",
      "min           1.000000\n",
      "25%           8.000000\n",
      "50%          11.000000\n",
      "75%          15.000000\n",
      "max          79.000000\n",
      "Name: open_acc, dtype: float64\n"
     ]
    }
   ],
   "source": [
    "# Visual of distribution and dicriptive stats\n",
    "\n",
    "num_count('open_acc', \"Open Credit Line Accounts \")"
   ]
  },
  {
   "cell_type": "markdown",
   "metadata": {},
   "source": [
    "Key Points:\n",
    "\n",
    "* Average is 12 open credit lines.\n",
    "\n",
    "Consideration(s):\n",
    "\n",
    "* This will be helpful when we do the bivariant analysis of this feature to our response variable"
   ]
  },
  {
   "cell_type": "markdown",
   "metadata": {},
   "source": [
    "### Mid Continous Validity Check"
   ]
  },
  {
   "cell_type": "markdown",
   "metadata": {},
   "source": [
    "Based on further domain research and to save time on feature analysis the following will be removed:\n",
    "\n",
    "* total_acc: The total number of credit lines currently in the borrower's credit file. WE already have open credit lines.\n",
    "\n",
    "\n",
    "* recoveries:post charge off gross recovery. This is for the post charge-off/default process for reconciliation purposes.\n",
    "\n",
    "\n",
    "* bc_util: Ratio of total current balance to high credit/credit limit for all bankcard accounts. Unnecessary as we have a DTI ratio to help understand the debt risk of the borrower. \n",
    "\n",
    "\n",
    "* tax_liens: Number of tax liens. This could be useful, however, we this can be used for further analysis at a later iteration of this initiative. "
   ]
  },
  {
   "cell_type": "code",
   "execution_count": 81,
   "metadata": {},
   "outputs": [],
   "source": [
    "# Removing the features listed above\n",
    "\n",
    "Working_DF.drop(['total_acc', 'recoveries', 'bc_util', 'tax_liens'], axis=1, inplace=True)"
   ]
  },
  {
   "cell_type": "code",
   "execution_count": 82,
   "metadata": {},
   "outputs": [
    {
     "data": {
      "text/plain": [
       "Index(['loan_amnt', 'term', 'int_rate', 'installment', 'grade', 'sub_grade',\n",
       "       'emp_length', 'home_ownership', 'annual_inc', 'verification_status',\n",
       "       'issue_d', 'loan_status', 'purpose', 'addr_state', 'dti',\n",
       "       'earliest_cr_line', 'open_acc', 'pub_rec', 'revol_bal', 'revol_util',\n",
       "       'initial_list_status', 'application_type', 'tot_cur_bal', 'mort_acc',\n",
       "       'pub_rec_bankruptcies', 'annual_inc_log', 'fico_score'],\n",
       "      dtype='object')"
      ]
     },
     "execution_count": 82,
     "metadata": {},
     "output_type": "execute_result"
    }
   ],
   "source": [
    "# Sanity check\n",
    "Working_DF.columns"
   ]
  },
  {
   "cell_type": "code",
   "execution_count": 83,
   "metadata": {},
   "outputs": [
    {
     "data": {
      "text/plain": [
       "(246269, 27)"
      ]
     },
     "execution_count": 83,
     "metadata": {},
     "output_type": "execute_result"
    }
   ],
   "source": [
    "# checking shape\n",
    "\n",
    "Working_DF.shape"
   ]
  },
  {
   "cell_type": "code",
   "execution_count": 84,
   "metadata": {},
   "outputs": [
    {
     "data": {
      "text/html": [
       "<div>\n",
       "<style scoped>\n",
       "    .dataframe tbody tr th:only-of-type {\n",
       "        vertical-align: middle;\n",
       "    }\n",
       "\n",
       "    .dataframe tbody tr th {\n",
       "        vertical-align: top;\n",
       "    }\n",
       "\n",
       "    .dataframe thead th {\n",
       "        text-align: right;\n",
       "    }\n",
       "</style>\n",
       "<table border=\"1\" class=\"dataframe\">\n",
       "  <thead>\n",
       "    <tr style=\"text-align: right;\">\n",
       "      <th></th>\n",
       "      <th>loan_amnt</th>\n",
       "      <th>int_rate</th>\n",
       "      <th>installment</th>\n",
       "      <th>emp_length</th>\n",
       "      <th>annual_inc</th>\n",
       "      <th>dti</th>\n",
       "      <th>earliest_cr_line</th>\n",
       "      <th>open_acc</th>\n",
       "      <th>pub_rec</th>\n",
       "      <th>revol_bal</th>\n",
       "      <th>revol_util</th>\n",
       "      <th>tot_cur_bal</th>\n",
       "      <th>mort_acc</th>\n",
       "      <th>pub_rec_bankruptcies</th>\n",
       "      <th>annual_inc_log</th>\n",
       "      <th>fico_score</th>\n",
       "    </tr>\n",
       "  </thead>\n",
       "  <tbody>\n",
       "    <tr>\n",
       "      <th>count</th>\n",
       "      <td>5.000000</td>\n",
       "      <td>5.000000</td>\n",
       "      <td>5.000000</td>\n",
       "      <td>5.000000</td>\n",
       "      <td>5.000000</td>\n",
       "      <td>5.00000</td>\n",
       "      <td>5.000000</td>\n",
       "      <td>5.00000</td>\n",
       "      <td>5.000000</td>\n",
       "      <td>5.000000</td>\n",
       "      <td>5.000000</td>\n",
       "      <td>5.000000</td>\n",
       "      <td>5.000000</td>\n",
       "      <td>5.000000</td>\n",
       "      <td>5.000000</td>\n",
       "      <td>5.00000</td>\n",
       "    </tr>\n",
       "    <tr>\n",
       "      <th>mean</th>\n",
       "      <td>16190.000000</td>\n",
       "      <td>16.616000</td>\n",
       "      <td>492.000000</td>\n",
       "      <td>4.000000</td>\n",
       "      <td>63862.000000</td>\n",
       "      <td>22.67000</td>\n",
       "      <td>1997.000000</td>\n",
       "      <td>15.20000</td>\n",
       "      <td>0.200000</td>\n",
       "      <td>18752.600000</td>\n",
       "      <td>57.420000</td>\n",
       "      <td>193589.800000</td>\n",
       "      <td>1.600000</td>\n",
       "      <td>0.200000</td>\n",
       "      <td>11.014052</td>\n",
       "      <td>675.00000</td>\n",
       "    </tr>\n",
       "    <tr>\n",
       "      <th>std</th>\n",
       "      <td>8119.759849</td>\n",
       "      <td>5.334658</td>\n",
       "      <td>256.180065</td>\n",
       "      <td>3.464102</td>\n",
       "      <td>23251.617578</td>\n",
       "      <td>4.73933</td>\n",
       "      <td>6.284903</td>\n",
       "      <td>7.79102</td>\n",
       "      <td>0.447214</td>\n",
       "      <td>15144.788024</td>\n",
       "      <td>22.605464</td>\n",
       "      <td>84796.686505</td>\n",
       "      <td>0.894427</td>\n",
       "      <td>0.447214</td>\n",
       "      <td>0.351334</td>\n",
       "      <td>14.40486</td>\n",
       "    </tr>\n",
       "    <tr>\n",
       "      <th>min</th>\n",
       "      <td>6950.000000</td>\n",
       "      <td>11.530000</td>\n",
       "      <td>243.930000</td>\n",
       "      <td>1.000000</td>\n",
       "      <td>41810.000000</td>\n",
       "      <td>17.25000</td>\n",
       "      <td>1988.000000</td>\n",
       "      <td>6.00000</td>\n",
       "      <td>0.000000</td>\n",
       "      <td>7459.000000</td>\n",
       "      <td>25.300000</td>\n",
       "      <td>62916.000000</td>\n",
       "      <td>0.000000</td>\n",
       "      <td>0.000000</td>\n",
       "      <td>10.640891</td>\n",
       "      <td>662.00000</td>\n",
       "    </tr>\n",
       "    <tr>\n",
       "      <th>25%</th>\n",
       "      <td>10000.000000</td>\n",
       "      <td>12.690000</td>\n",
       "      <td>329.910000</td>\n",
       "      <td>3.000000</td>\n",
       "      <td>45000.000000</td>\n",
       "      <td>19.41000</td>\n",
       "      <td>1995.000000</td>\n",
       "      <td>9.00000</td>\n",
       "      <td>0.000000</td>\n",
       "      <td>9269.000000</td>\n",
       "      <td>56.300000</td>\n",
       "      <td>173292.000000</td>\n",
       "      <td>2.000000</td>\n",
       "      <td>0.000000</td>\n",
       "      <td>10.714418</td>\n",
       "      <td>667.00000</td>\n",
       "    </tr>\n",
       "    <tr>\n",
       "      <th>50%</th>\n",
       "      <td>15000.000000</td>\n",
       "      <td>15.880000</td>\n",
       "      <td>440.190000</td>\n",
       "      <td>3.000000</td>\n",
       "      <td>65000.000000</td>\n",
       "      <td>22.22000</td>\n",
       "      <td>1996.000000</td>\n",
       "      <td>16.00000</td>\n",
       "      <td>0.000000</td>\n",
       "      <td>10723.000000</td>\n",
       "      <td>58.000000</td>\n",
       "      <td>197096.000000</td>\n",
       "      <td>2.000000</td>\n",
       "      <td>0.000000</td>\n",
       "      <td>11.082143</td>\n",
       "      <td>667.00000</td>\n",
       "    </tr>\n",
       "    <tr>\n",
       "      <th>75%</th>\n",
       "      <td>24000.000000</td>\n",
       "      <td>17.990000</td>\n",
       "      <td>542.280000</td>\n",
       "      <td>3.000000</td>\n",
       "      <td>67500.000000</td>\n",
       "      <td>25.24000</td>\n",
       "      <td>2003.000000</td>\n",
       "      <td>20.00000</td>\n",
       "      <td>0.000000</td>\n",
       "      <td>22654.000000</td>\n",
       "      <td>58.300000</td>\n",
       "      <td>253377.000000</td>\n",
       "      <td>2.000000</td>\n",
       "      <td>0.000000</td>\n",
       "      <td>11.119883</td>\n",
       "      <td>682.00000</td>\n",
       "    </tr>\n",
       "    <tr>\n",
       "      <th>max</th>\n",
       "      <td>25000.000000</td>\n",
       "      <td>24.990000</td>\n",
       "      <td>903.690000</td>\n",
       "      <td>10.000000</td>\n",
       "      <td>100000.000000</td>\n",
       "      <td>29.23000</td>\n",
       "      <td>2003.000000</td>\n",
       "      <td>25.00000</td>\n",
       "      <td>1.000000</td>\n",
       "      <td>43658.000000</td>\n",
       "      <td>89.200000</td>\n",
       "      <td>281268.000000</td>\n",
       "      <td>2.000000</td>\n",
       "      <td>1.000000</td>\n",
       "      <td>11.512925</td>\n",
       "      <td>697.00000</td>\n",
       "    </tr>\n",
       "  </tbody>\n",
       "</table>\n",
       "</div>"
      ],
      "text/plain": [
       "          loan_amnt   int_rate  installment  emp_length     annual_inc  \\\n",
       "count      5.000000   5.000000     5.000000    5.000000       5.000000   \n",
       "mean   16190.000000  16.616000   492.000000    4.000000   63862.000000   \n",
       "std     8119.759849   5.334658   256.180065    3.464102   23251.617578   \n",
       "min     6950.000000  11.530000   243.930000    1.000000   41810.000000   \n",
       "25%    10000.000000  12.690000   329.910000    3.000000   45000.000000   \n",
       "50%    15000.000000  15.880000   440.190000    3.000000   65000.000000   \n",
       "75%    24000.000000  17.990000   542.280000    3.000000   67500.000000   \n",
       "max    25000.000000  24.990000   903.690000   10.000000  100000.000000   \n",
       "\n",
       "            dti  earliest_cr_line  open_acc   pub_rec     revol_bal  \\\n",
       "count   5.00000          5.000000   5.00000  5.000000      5.000000   \n",
       "mean   22.67000       1997.000000  15.20000  0.200000  18752.600000   \n",
       "std     4.73933          6.284903   7.79102  0.447214  15144.788024   \n",
       "min    17.25000       1988.000000   6.00000  0.000000   7459.000000   \n",
       "25%    19.41000       1995.000000   9.00000  0.000000   9269.000000   \n",
       "50%    22.22000       1996.000000  16.00000  0.000000  10723.000000   \n",
       "75%    25.24000       2003.000000  20.00000  0.000000  22654.000000   \n",
       "max    29.23000       2003.000000  25.00000  1.000000  43658.000000   \n",
       "\n",
       "       revol_util    tot_cur_bal  mort_acc  pub_rec_bankruptcies  \\\n",
       "count    5.000000       5.000000  5.000000              5.000000   \n",
       "mean    57.420000  193589.800000  1.600000              0.200000   \n",
       "std     22.605464   84796.686505  0.894427              0.447214   \n",
       "min     25.300000   62916.000000  0.000000              0.000000   \n",
       "25%     56.300000  173292.000000  2.000000              0.000000   \n",
       "50%     58.000000  197096.000000  2.000000              0.000000   \n",
       "75%     58.300000  253377.000000  2.000000              0.000000   \n",
       "max     89.200000  281268.000000  2.000000              1.000000   \n",
       "\n",
       "       annual_inc_log  fico_score  \n",
       "count        5.000000     5.00000  \n",
       "mean        11.014052   675.00000  \n",
       "std          0.351334    14.40486  \n",
       "min         10.640891   662.00000  \n",
       "25%         10.714418   667.00000  \n",
       "50%         11.082143   667.00000  \n",
       "75%         11.119883   682.00000  \n",
       "max         11.512925   697.00000  "
      ]
     },
     "execution_count": 84,
     "metadata": {},
     "output_type": "execute_result"
    }
   ],
   "source": [
    "#checking current cont variables\n",
    "\n",
    "continous = Working_DF.select_dtypes('number').head()\n",
    "continous.describe()"
   ]
  },
  {
   "cell_type": "code",
   "execution_count": 85,
   "metadata": {},
   "outputs": [
    {
     "data": {
      "image/png": "[encoded data removed]",
      "text/plain": [
       "<Figure size 1224x1152 with 2 Axes>"
      ]
     },
     "metadata": {
      "needs_background": "light"
     },
     "output_type": "display_data"
    }
   ],
   "source": [
    "# checking correlation\n",
    "\n",
    "def correlation_heatmap(df1):\n",
    "   _,ax=plt.subplots(figsize=(17,16))\n",
    "   colormap=sns.diverging_palette(220,10,as_cmap=True)\n",
    "   sns.heatmap(continous.corr(),annot=True,cmap=colormap)\n",
    "   \n",
    "correlation_heatmap(continous)"
   ]
  },
  {
   "cell_type": "code",
   "execution_count": 88,
   "metadata": {},
   "outputs": [
    {
     "data": {
      "text/html": [
       "<div>\n",
       "<style scoped>\n",
       "    .dataframe tbody tr th:only-of-type {\n",
       "        vertical-align: middle;\n",
       "    }\n",
       "\n",
       "    .dataframe tbody tr th {\n",
       "        vertical-align: top;\n",
       "    }\n",
       "\n",
       "    .dataframe thead th {\n",
       "        text-align: right;\n",
       "    }\n",
       "</style>\n",
       "<table border=\"1\" class=\"dataframe\">\n",
       "  <thead>\n",
       "    <tr style=\"text-align: right;\">\n",
       "      <th></th>\n",
       "      <th>loan_amnt</th>\n",
       "      <th>int_rate</th>\n",
       "      <th>installment</th>\n",
       "      <th>emp_length</th>\n",
       "      <th>annual_inc</th>\n",
       "      <th>dti</th>\n",
       "      <th>earliest_cr_line</th>\n",
       "      <th>open_acc</th>\n",
       "      <th>pub_rec</th>\n",
       "      <th>revol_bal</th>\n",
       "      <th>revol_util</th>\n",
       "      <th>tot_cur_bal</th>\n",
       "      <th>mort_acc</th>\n",
       "      <th>pub_rec_bankruptcies</th>\n",
       "      <th>annual_inc_log</th>\n",
       "      <th>fico_score</th>\n",
       "    </tr>\n",
       "  </thead>\n",
       "  <tbody>\n",
       "    <tr>\n",
       "      <th>count</th>\n",
       "      <td>5.000000</td>\n",
       "      <td>5.000000</td>\n",
       "      <td>5.000000</td>\n",
       "      <td>5.000000</td>\n",
       "      <td>5.000000</td>\n",
       "      <td>5.00000</td>\n",
       "      <td>5.000000</td>\n",
       "      <td>5.00000</td>\n",
       "      <td>5.000000</td>\n",
       "      <td>5.000000</td>\n",
       "      <td>5.000000</td>\n",
       "      <td>5.000000</td>\n",
       "      <td>5.000000</td>\n",
       "      <td>5.000000</td>\n",
       "      <td>5.000000</td>\n",
       "      <td>5.00000</td>\n",
       "    </tr>\n",
       "    <tr>\n",
       "      <th>mean</th>\n",
       "      <td>16190.000000</td>\n",
       "      <td>16.616000</td>\n",
       "      <td>492.000000</td>\n",
       "      <td>4.000000</td>\n",
       "      <td>63862.000000</td>\n",
       "      <td>22.67000</td>\n",
       "      <td>1997.000000</td>\n",
       "      <td>15.20000</td>\n",
       "      <td>0.200000</td>\n",
       "      <td>18752.600000</td>\n",
       "      <td>57.420000</td>\n",
       "      <td>193589.800000</td>\n",
       "      <td>1.600000</td>\n",
       "      <td>0.200000</td>\n",
       "      <td>11.014052</td>\n",
       "      <td>675.00000</td>\n",
       "    </tr>\n",
       "    <tr>\n",
       "      <th>std</th>\n",
       "      <td>8119.759849</td>\n",
       "      <td>5.334658</td>\n",
       "      <td>256.180065</td>\n",
       "      <td>3.464102</td>\n",
       "      <td>23251.617578</td>\n",
       "      <td>4.73933</td>\n",
       "      <td>6.284903</td>\n",
       "      <td>7.79102</td>\n",
       "      <td>0.447214</td>\n",
       "      <td>15144.788024</td>\n",
       "      <td>22.605464</td>\n",
       "      <td>84796.686505</td>\n",
       "      <td>0.894427</td>\n",
       "      <td>0.447214</td>\n",
       "      <td>0.351334</td>\n",
       "      <td>14.40486</td>\n",
       "    </tr>\n",
       "    <tr>\n",
       "      <th>min</th>\n",
       "      <td>6950.000000</td>\n",
       "      <td>11.530000</td>\n",
       "      <td>243.930000</td>\n",
       "      <td>1.000000</td>\n",
       "      <td>41810.000000</td>\n",
       "      <td>17.25000</td>\n",
       "      <td>1988.000000</td>\n",
       "      <td>6.00000</td>\n",
       "      <td>0.000000</td>\n",
       "      <td>7459.000000</td>\n",
       "      <td>25.300000</td>\n",
       "      <td>62916.000000</td>\n",
       "      <td>0.000000</td>\n",
       "      <td>0.000000</td>\n",
       "      <td>10.640891</td>\n",
       "      <td>662.00000</td>\n",
       "    </tr>\n",
       "    <tr>\n",
       "      <th>25%</th>\n",
       "      <td>10000.000000</td>\n",
       "      <td>12.690000</td>\n",
       "      <td>329.910000</td>\n",
       "      <td>3.000000</td>\n",
       "      <td>45000.000000</td>\n",
       "      <td>19.41000</td>\n",
       "      <td>1995.000000</td>\n",
       "      <td>9.00000</td>\n",
       "      <td>0.000000</td>\n",
       "      <td>9269.000000</td>\n",
       "      <td>56.300000</td>\n",
       "      <td>173292.000000</td>\n",
       "      <td>2.000000</td>\n",
       "      <td>0.000000</td>\n",
       "      <td>10.714418</td>\n",
       "      <td>667.00000</td>\n",
       "    </tr>\n",
       "    <tr>\n",
       "      <th>50%</th>\n",
       "      <td>15000.000000</td>\n",
       "      <td>15.880000</td>\n",
       "      <td>440.190000</td>\n",
       "      <td>3.000000</td>\n",
       "      <td>65000.000000</td>\n",
       "      <td>22.22000</td>\n",
       "      <td>1996.000000</td>\n",
       "      <td>16.00000</td>\n",
       "      <td>0.000000</td>\n",
       "      <td>10723.000000</td>\n",
       "      <td>58.000000</td>\n",
       "      <td>197096.000000</td>\n",
       "      <td>2.000000</td>\n",
       "      <td>0.000000</td>\n",
       "      <td>11.082143</td>\n",
       "      <td>667.00000</td>\n",
       "    </tr>\n",
       "    <tr>\n",
       "      <th>75%</th>\n",
       "      <td>24000.000000</td>\n",
       "      <td>17.990000</td>\n",
       "      <td>542.280000</td>\n",
       "      <td>3.000000</td>\n",
       "      <td>67500.000000</td>\n",
       "      <td>25.24000</td>\n",
       "      <td>2003.000000</td>\n",
       "      <td>20.00000</td>\n",
       "      <td>0.000000</td>\n",
       "      <td>22654.000000</td>\n",
       "      <td>58.300000</td>\n",
       "      <td>253377.000000</td>\n",
       "      <td>2.000000</td>\n",
       "      <td>0.000000</td>\n",
       "      <td>11.119883</td>\n",
       "      <td>682.00000</td>\n",
       "    </tr>\n",
       "    <tr>\n",
       "      <th>max</th>\n",
       "      <td>25000.000000</td>\n",
       "      <td>24.990000</td>\n",
       "      <td>903.690000</td>\n",
       "      <td>10.000000</td>\n",
       "      <td>100000.000000</td>\n",
       "      <td>29.23000</td>\n",
       "      <td>2003.000000</td>\n",
       "      <td>25.00000</td>\n",
       "      <td>1.000000</td>\n",
       "      <td>43658.000000</td>\n",
       "      <td>89.200000</td>\n",
       "      <td>281268.000000</td>\n",
       "      <td>2.000000</td>\n",
       "      <td>1.000000</td>\n",
       "      <td>11.512925</td>\n",
       "      <td>697.00000</td>\n",
       "    </tr>\n",
       "  </tbody>\n",
       "</table>\n",
       "</div>"
      ],
      "text/plain": [
       "          loan_amnt   int_rate  installment  emp_length     annual_inc  \\\n",
       "count      5.000000   5.000000     5.000000    5.000000       5.000000   \n",
       "mean   16190.000000  16.616000   492.000000    4.000000   63862.000000   \n",
       "std     8119.759849   5.334658   256.180065    3.464102   23251.617578   \n",
       "min     6950.000000  11.530000   243.930000    1.000000   41810.000000   \n",
       "25%    10000.000000  12.690000   329.910000    3.000000   45000.000000   \n",
       "50%    15000.000000  15.880000   440.190000    3.000000   65000.000000   \n",
       "75%    24000.000000  17.990000   542.280000    3.000000   67500.000000   \n",
       "max    25000.000000  24.990000   903.690000   10.000000  100000.000000   \n",
       "\n",
       "            dti  earliest_cr_line  open_acc   pub_rec     revol_bal  \\\n",
       "count   5.00000          5.000000   5.00000  5.000000      5.000000   \n",
       "mean   22.67000       1997.000000  15.20000  0.200000  18752.600000   \n",
       "std     4.73933          6.284903   7.79102  0.447214  15144.788024   \n",
       "min    17.25000       1988.000000   6.00000  0.000000   7459.000000   \n",
       "25%    19.41000       1995.000000   9.00000  0.000000   9269.000000   \n",
       "50%    22.22000       1996.000000  16.00000  0.000000  10723.000000   \n",
       "75%    25.24000       2003.000000  20.00000  0.000000  22654.000000   \n",
       "max    29.23000       2003.000000  25.00000  1.000000  43658.000000   \n",
       "\n",
       "       revol_util    tot_cur_bal  mort_acc  pub_rec_bankruptcies  \\\n",
       "count    5.000000       5.000000  5.000000              5.000000   \n",
       "mean    57.420000  193589.800000  1.600000              0.200000   \n",
       "std     22.605464   84796.686505  0.894427              0.447214   \n",
       "min     25.300000   62916.000000  0.000000              0.000000   \n",
       "25%     56.300000  173292.000000  2.000000              0.000000   \n",
       "50%     58.000000  197096.000000  2.000000              0.000000   \n",
       "75%     58.300000  253377.000000  2.000000              0.000000   \n",
       "max     89.200000  281268.000000  2.000000              1.000000   \n",
       "\n",
       "       annual_inc_log  fico_score  \n",
       "count        5.000000     5.00000  \n",
       "mean        11.014052   675.00000  \n",
       "std          0.351334    14.40486  \n",
       "min         10.640891   662.00000  \n",
       "25%         10.714418   667.00000  \n",
       "50%         11.082143   667.00000  \n",
       "75%         11.119883   682.00000  \n",
       "max         11.512925   697.00000  "
      ]
     },
     "execution_count": 88,
     "metadata": {},
     "output_type": "execute_result"
    }
   ],
   "source": [
    "continous = Working_DF.select_dtypes('number').head()\n",
    "continous.describe()"
   ]
  },
  {
   "cell_type": "code",
   "execution_count": 89,
   "metadata": {},
   "outputs": [
    {
     "data": {
      "text/plain": [
       "Index(['loan_amnt', 'int_rate', 'installment', 'emp_length', 'annual_inc',\n",
       "       'dti', 'earliest_cr_line', 'open_acc', 'pub_rec', 'revol_bal',\n",
       "       'revol_util', 'tot_cur_bal', 'mort_acc', 'pub_rec_bankruptcies',\n",
       "       'annual_inc_log', 'fico_score'],\n",
       "      dtype='object')"
      ]
     },
     "execution_count": 89,
     "metadata": {},
     "output_type": "execute_result"
    }
   ],
   "source": [
    "continous.columns"
   ]
  },
  {
   "cell_type": "code",
   "execution_count": 90,
   "metadata": {},
   "outputs": [
    {
     "data": {
      "text/plain": [
       "Index(['loan_amnt', 'term', 'int_rate', 'installment', 'grade', 'sub_grade',\n",
       "       'emp_length', 'home_ownership', 'annual_inc', 'verification_status',\n",
       "       'issue_d', 'loan_status', 'purpose', 'addr_state', 'dti',\n",
       "       'earliest_cr_line', 'open_acc', 'pub_rec', 'revol_bal', 'revol_util',\n",
       "       'initial_list_status', 'application_type', 'tot_cur_bal', 'mort_acc',\n",
       "       'pub_rec_bankruptcies', 'annual_inc_log', 'fico_score'],\n",
       "      dtype='object')"
      ]
     },
     "execution_count": 90,
     "metadata": {},
     "output_type": "execute_result"
    }
   ],
   "source": [
    " Working_DF.columns"
   ]
  },
  {
   "cell_type": "markdown",
   "metadata": {},
   "source": [
    "### Updating Current Asset (dataset) into a CSV"
   ]
  },
  {
   "cell_type": "code",
   "execution_count": 91,
   "metadata": {},
   "outputs": [],
   "source": [
    "# creating a csv\n",
    "\n",
    "Working_DF.to_csv(\"clean_accepted_3.csv\", index=False)"
   ]
  },
  {
   "cell_type": "markdown",
   "metadata": {},
   "source": [
    "## Notebook Summary"
   ]
  },
  {
   "cell_type": "markdown",
   "metadata": {},
   "source": [
    "Due to the sheer volume of features and the amount of time taken, it would be safe to move towards bivariant EDA and preprocessing. An extensive univariant analysis has been done and also some reduction within the variable-feature space. Additionally, some feature engineers has be done. In \"EDA2_PreProcessing\" we will begin bivariant analysis and pre-processing of the the new asset (updated dataset, \"clean_accepted_3.csv\"). "
   ]
  },
  {
   "cell_type": "code",
   "execution_count": null,
   "metadata": {},
   "outputs": [],
   "source": []
  }
 ],
 "metadata": {
  "kernelspec": {
   "display_name": "Python 3",
   "language": "python",
   "name": "python3"
  },
  "language_info": {
   "codemirror_mode": {
    "name": "ipython",
    "version": 3
   },
   "file_extension": ".py",
   "mimetype": "text/x-python",
   "name": "python",
   "nbconvert_exporter": "python",
   "pygments_lexer": "ipython3",
   "version": "3.8.8"
  },
  "toc": {
   "base_numbering": 1,
   "nav_menu": {},
   "number_sections": true,
   "sideBar": true,
   "skip_h1_title": false,
   "title_cell": "Table of Contents",
   "title_sidebar": "Contents",
   "toc_cell": false,
   "toc_position": {
    "height": "calc(100% - 180px)",
    "left": "10px",
    "top": "150px",
    "width": "289.861px"
   },
   "toc_section_display": true,
   "toc_window_display": true
  }
 },
 "nbformat": 4,
 "nbformat_minor": 4
}
